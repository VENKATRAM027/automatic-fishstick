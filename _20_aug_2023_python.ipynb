{
 "cells": [
  {
   "cell_type": "code",
   "execution_count": 1,
   "id": "487683be-e8ef-43d2-8be8-8a42bd9bd7a3",
   "metadata": {},
   "outputs": [
    {
     "name": "stdout",
     "output_type": "stream",
     "text": [
      "the original string is hello world\n",
      "the reversed string is dlrow olleh\n"
     ]
    }
   ],
   "source": [
    "string = \"hello world\"\n",
    "reversed_string = string[::-1]\n",
    "print(\"the original string is\" , string )\n",
    "print(\"the reversed string is\" , reversed_string)\n"
   ]
  },
  {
   "cell_type": "code",
   "execution_count": 2,
   "id": "84622232-c6a7-4af6-a035-49118edc016b",
   "metadata": {},
   "outputs": [
    {
     "name": "stdout",
     "output_type": "stream",
     "text": [
      "racecar is a palindrome!\n"
     ]
    }
   ],
   "source": [
    "def is_palindrome(string):\n",
    "    return string == string[::-1]\n",
    "\n",
    "string = \"racecar\"\n",
    "if is_palindrome(string):\n",
    "    print(f\"{string} is a palindrome!\")\n",
    "else:\n",
    "    print(f\"{string} is not a palindrome.\")\n"
   ]
  },
  {
   "cell_type": "code",
   "execution_count": 4,
   "id": "5d8118c2-cf1a-45c1-adda-d0378763527b",
   "metadata": {},
   "outputs": [
    {
     "name": "stdout",
     "output_type": "stream",
     "text": [
      "Original string:  Hello, World!\n",
      "Uppercase string:  HELLO, WORLD!\n"
     ]
    }
   ],
   "source": [
    "def convert_to_uppercase(string: str) -> str:\n",
    "    return string.upper()\n",
    "\n",
    "string = \"Hello, World!\"\n",
    "print(\"Original string: \", string)\n",
    "print(\"Uppercase string: \", convert_to_uppercase(string))"
   ]
  },
  {
   "cell_type": "code",
   "execution_count": 5,
   "id": "8d78246c-3511-4e33-8213-35d921d0b2b9",
   "metadata": {},
   "outputs": [
    {
     "name": "stdout",
     "output_type": "stream",
     "text": [
      "Original string:  Hello, World!\n",
      "Lowercase string:  hello, world!\n"
     ]
    }
   ],
   "source": [
    "def convert_to_lowercase(string: str) -> str:\n",
    "    return string.lower()\n",
    "\n",
    "string = \"Hello, World!\"\n",
    "print(\"Original string: \", string)\n",
    "print(\"Lowercase string: \", convert_to_lowercase(string))\n"
   ]
  },
  {
   "cell_type": "code",
   "execution_count": 6,
   "id": "2fe5de41-01e1-46ec-bbf7-156d8948f492",
   "metadata": {},
   "outputs": [
    {
     "name": "stdout",
     "output_type": "stream",
     "text": [
      "Original string:  Hello, World!\n",
      "Number of vowels:  3\n"
     ]
    }
   ],
   "source": [
    "def count_vowels(string: str) -> int:\n",
    "    vowels = \"aeiou\"\n",
    "    count = 0\n",
    "    for char in string:\n",
    "        if char.lower() in vowels:\n",
    "            count += 1\n",
    "    return count\n",
    "\n",
    "string = \"Hello, World!\"\n",
    "print(\"Original string: \", string)\n",
    "print(\"Number of vowels: \", count_vowels(string))\n"
   ]
  },
  {
   "cell_type": "code",
   "execution_count": 7,
   "id": "40ccb02e-a5e3-47d3-a196-aace3f505fbe",
   "metadata": {},
   "outputs": [
    {
     "name": "stdout",
     "output_type": "stream",
     "text": [
      "Original string:  Hello, World!\n",
      "Number of consonants:  7\n"
     ]
    }
   ],
   "source": [
    "def count_consonants_loop(string: str) -> int:\n",
    "    num_consonants = 0\n",
    "    for char in string:\n",
    "        if char.isalpha() and char.lower() not in \"aeiou\":\n",
    "            num_consonants += 1\n",
    "    return num_consonants\n",
    "\n",
    "string = \"Hello, World!\"\n",
    "print(\"Original string: \", string)\n",
    "print(\"Number of consonants: \", count_consonants_loop(string))\n"
   ]
  },
  {
   "cell_type": "code",
   "execution_count": 8,
   "id": "495325d9-5b5f-42b7-90cf-afbab0631348",
   "metadata": {},
   "outputs": [
    {
     "name": "stdout",
     "output_type": "stream",
     "text": [
      "Original string:  Hello, World!\n",
      "String with no whitespace:  Hello,World!\n"
     ]
    }
   ],
   "source": [
    "def remove_whitespace(string: str) -> str:\n",
    "    return string.replace(\" \", \"\")\n",
    "\n",
    "string = \"Hello, World!\"\n",
    "print(\"Original string: \", string)\n",
    "print(\"String with no whitespace: \", remove_whitespace(string))\n"
   ]
  },
  {
   "cell_type": "code",
   "execution_count": 9,
   "id": "ce5e69a7-6333-4a37-a542-59c409b69b73",
   "metadata": {},
   "outputs": [
    {
     "name": "stdout",
     "output_type": "stream",
     "text": [
      "Original string:  Hello, World!\n",
      "Length of string:  13\n"
     ]
    }
   ],
   "source": [
    "def find_length_sum(string: str) -> int:\n",
    "    return sum(1 for char in string)\n",
    "\n",
    "string = \"Hello, World!\"\n",
    "print(\"Original string: \", string)\n",
    "print(\"Length of string: \", find_length_sum(string))\n"
   ]
  },
  {
   "cell_type": "code",
   "execution_count": 2,
   "id": "c5d821c2-c250-4bb7-bc74-ec15e0d66b47",
   "metadata": {},
   "outputs": [
    {
     "name": "stdout",
     "output_type": "stream",
     "text": [
      "The string contains the word fox\n"
     ]
    }
   ],
   "source": [
    "string = \"The quick brown fox jumps over the lazy dog\"\n",
    "word = \"fox\"\n",
    "if word in string:\n",
    "    print(f\"The string contains the word {word}\")\n",
    "else:\n",
    "    print(f\"The string does not contain the word {word}\")\n"
   ]
  },
  {
   "cell_type": "code",
   "execution_count": 5,
   "id": "aaea3283-ffe4-4f53-a6ce-984b90d51be4",
   "metadata": {},
   "outputs": [
    {
     "name": "stdout",
     "output_type": "stream",
     "text": [
      "The new string is: The quick brown cat jumps over the lazy dog\n"
     ]
    }
   ],
   "source": [
    "string = \"The quick brown fox jumps over the lazy dog\"\n",
    "old_word = \"fox\"\n",
    "new_word = \"cat\"\n",
    "new_string = string.replace(old_word , new_word)\n",
    "print(f\"The new string is: {new_string}\")\n"
   ]
  },
  {
   "cell_type": "code",
   "execution_count": 1,
   "id": "c66cb662-b78a-4bf2-b946-5edbbe1bd301",
   "metadata": {},
   "outputs": [
    {
     "name": "stdout",
     "output_type": "stream",
     "text": [
      "The word 'the' appears 1 times in the string.\n"
     ]
    }
   ],
   "source": [
    "string = \"The quick brown fox jumps over the lazy dog\"\n",
    "word = \"the\"\n",
    "count = string.count(word)\n",
    "print(f\"The word '{word}' appears {count} times in the string.\")\n"
   ]
  },
  {
   "cell_type": "code",
   "execution_count": 2,
   "id": "21212021-ab62-40bf-ac83-d7039fe6ee0f",
   "metadata": {},
   "outputs": [
    {
     "name": "stdout",
     "output_type": "stream",
     "text": [
      "The word 'fox' first occurs at index 16\n"
     ]
    }
   ],
   "source": [
    "string = \"The quick brown fox jumps over the lazy dog\"\n",
    "word = \"fox\"\n",
    "index = string.find(word)\n",
    "if index != -1:\n",
    "    print(f\"The word '{word}' first occurs at index {index}\")\n",
    "else:\n",
    "    print(f\"The word '{word}' does not occur in the string\") "
   ]
  },
  {
   "cell_type": "code",
   "execution_count": 7,
   "id": "085f9f2c-ac9e-410c-8e9f-436f28594bb8",
   "metadata": {},
   "outputs": [
    {
     "name": "stdout",
     "output_type": "stream",
     "text": [
      "The word 'over' last occurs at index 26\n"
     ]
    }
   ],
   "source": [
    "string = \"the quick brown fox jumps over the lazy dog\"\n",
    "word = \"over\"\n",
    "index = string.rfind(word)\n",
    "if index != -1:\n",
    "    print(f\"The word '{word}' last occurs at index {index}\")\n",
    "else:\n",
    "     print(f\"The word '{word}' does not occur in the string\")     \n",
    "          "
   ]
  },
  {
   "cell_type": "code",
   "execution_count": 8,
   "id": "5d2a14cf-c4be-45d4-b532-bfcccd2e98bc",
   "metadata": {},
   "outputs": [
    {
     "name": "stdout",
     "output_type": "stream",
     "text": [
      "The list of words is: ['The', 'quick', 'brown', 'fox', 'jumps', 'over', 'the', 'lazy', 'dog']\n"
     ]
    }
   ],
   "source": [
    "string = \"The quick brown fox jumps over the lazy dog\"\n",
    "words = string.split()\n",
    "print(f\"The list of words is: {words}\")\n"
   ]
  },
  {
   "cell_type": "code",
   "execution_count": 9,
   "id": "ed6364d2-557c-41e6-924c-33dfc6a7ec90",
   "metadata": {},
   "outputs": [
    {
     "name": "stdout",
     "output_type": "stream",
     "text": [
      "The joined sentence is: this-is-a-sentence\n"
     ]
    }
   ],
   "source": [
    "words = ['this', 'is', 'a', 'sentence']\n",
    "separator = '-'\n",
    "sentence = separator.join(words)\n",
    "print(f\"The joined sentence is: {sentence}\")\n"
   ]
  },
  {
   "cell_type": "code",
   "execution_count": 2,
   "id": "975af130-1622-42bb-b0fc-c5191e83fc98",
   "metadata": {},
   "outputs": [
    {
     "name": "stdout",
     "output_type": "stream",
     "text": [
      "this_is_a_string_with_spaces\n"
     ]
    }
   ],
   "source": [
    "string_with_spaces = \"this is a string with spaces\"\n",
    "string_with_underscore = string_with_spaces.replace(\" \",\"_\")\n",
    "print(string_with_underscore)"
   ]
  },
  {
   "cell_type": "code",
   "execution_count": 3,
   "id": "295fe516-fb52-4b07-ae6f-832ee385aa2d",
   "metadata": {},
   "outputs": [
    {
     "name": "stdout",
     "output_type": "stream",
     "text": [
      "this string starts with 'this'\n"
     ]
    }
   ],
   "source": [
    "string = \"this is a string\"\n",
    "if string.startswith(\"this\"):\n",
    "    print(\"this string starts with 'this'\")"
   ]
  },
  {
   "cell_type": "code",
   "execution_count": 4,
   "id": "c4a18ce8-2520-43e5-8ea7-df3df75c0bdd",
   "metadata": {},
   "outputs": [
    {
     "name": "stdout",
     "output_type": "stream",
     "text": [
      "this string ends with 'string'\n"
     ]
    }
   ],
   "source": [
    "string = \"this is a string\"\n",
    "if string.endswith(\"string\"):\n",
    "    print(\"this string ends with 'string'\")"
   ]
  },
  {
   "cell_type": "code",
   "execution_count": 6,
   "id": "900e4af3-821e-4a23-a8e3-7ccdf48c48b0",
   "metadata": {},
   "outputs": [
    {
     "name": "stdout",
     "output_type": "stream",
     "text": [
      "Hello World\n"
     ]
    }
   ],
   "source": [
    "a = \"hello world\"\n",
    "title_case_string = a.title()\n",
    "print(title_case_string)\n"
   ]
  },
  {
   "cell_type": "code",
   "execution_count": 6,
   "id": "6cfa58cd-e13d-4cd6-9ecc-85f84f29f15f",
   "metadata": {},
   "outputs": [
    {
     "name": "stdout",
     "output_type": "stream",
     "text": [
      "18\n"
     ]
    }
   ],
   "source": [
    "b = \"this is a longest string\"\n",
    "longest_string = b.find(longest_word)\n",
    "print(longest_string)"
   ]
  },
  {
   "cell_type": "code",
   "execution_count": 5,
   "id": "de3f09f6-d7fe-46dd-b91f-242e0864a93d",
   "metadata": {},
   "outputs": [
    {
     "name": "stdout",
     "output_type": "stream",
     "text": [
      "the longest word is string with length 6.\n"
     ]
    }
   ],
   "source": [
    "string = \"this is a string with some long words\"\n",
    "words = string.split()\n",
    "longest_word = \"\"\n",
    "for word in words:\n",
    "    if len(word) > len(longest_word):\n",
    "        longest_word = word\n",
    "print(f\"the longest word is {longest_word} with length {len(longest_word)}.\")    "
   ]
  },
  {
   "cell_type": "code",
   "execution_count": 11,
   "id": "70c2a61c-2bd3-4ee4-a281-5e8423437187",
   "metadata": {},
   "outputs": [],
   "source": [
    "def find_shortest_word(string):\n",
    "    words = string.split()\n",
    "    shortest_word = words[0]\n",
    "    for word in words:\n",
    "        if len(word) < len(shortest_word):\n",
    "            shortest_word = word\n",
    "    return shortest_word\n"
   ]
  },
  {
   "cell_type": "code",
   "execution_count": 12,
   "id": "1a541b20-a0b0-4d76-bde7-bb02bf8ea9e2",
   "metadata": {},
   "outputs": [
    {
     "data": {
      "text/plain": [
       "'a'"
      ]
     },
     "execution_count": 12,
     "metadata": {},
     "output_type": "execute_result"
    }
   ],
   "source": [
    "find_shortest_word(\"this is a sentence with some shortest words\")"
   ]
  },
  {
   "cell_type": "code",
   "execution_count": 38,
   "id": "a3f297da-704a-43f0-9326-f393b53f7b44",
   "metadata": {},
   "outputs": [
    {
     "name": "stdout",
     "output_type": "stream",
     "text": [
      "The reversed string is: dog lazy the over jumps fox brown quick The\n"
     ]
    }
   ],
   "source": [
    "string = \"The quick brown fox jumps over the lazy dog\"\n",
    "reversed_string = reverse_words(string)\n",
    "print(\"The reversed string is:\", reversed_string)\n"
   ]
  },
  {
   "cell_type": "code",
   "execution_count": 67,
   "id": "2ea5cd0c-3051-4936-81b1-dba5f967c4e1",
   "metadata": {},
   "outputs": [
    {
     "name": "stdout",
     "output_type": "stream",
     "text": [
      "The string is alphanumeric\n"
     ]
    }
   ],
   "source": [
    "string = \"Hello\"\n",
    "if is_alphanumeric(string):\n",
    "    print(\"The string is alphanumeric\")\n",
    "else:\n",
    "    print(\"The string is not alphanumeric\")\n"
   ]
  },
  {
   "cell_type": "code",
   "execution_count": 75,
   "id": "2ebd9806-8576-4202-bb7b-2b3e2570749f",
   "metadata": {},
   "outputs": [
    {
     "name": "stdout",
     "output_type": "stream",
     "text": [
      "['1', '0', '0']\n"
     ]
    }
   ],
   "source": [
    "string = \"This is a string with 100 numbers\"\n",
    "digits = []\n",
    "for char in string:\n",
    "    if char.isdigit():\n",
    "        digits.append(char)\n",
    "print(digits)\n"
   ]
  },
  {
   "cell_type": "code",
   "execution_count": 96,
   "id": "bfd3fa35-a296-4029-aaf9-ffa8223a50c6",
   "metadata": {
    "tags": []
   },
   "outputs": [
    {
     "name": "stdin",
     "output_type": "stream",
     "text": [
      "Enter a string:  this is the splelling of 1000\n"
     ]
    },
    {
     "name": "stdout",
     "output_type": "stream",
     "text": [
      "The alphabets in the string are:  thisisthesplellingof\n"
     ]
    }
   ],
   "source": [
    "def extract_alphabets(string):\n",
    "  alphabets = \"\"\n",
    "  for char in string:\n",
    "    if char.isalpha():\n",
    "      alphabets += char\n",
    "  return alphabets\n",
    "\n",
    "string = input(\"Enter a string: \")\n",
    "print(\"The alphabets in the string are: \", extract_alphabets(string))"
   ]
  },
  {
   "cell_type": "code",
   "execution_count": 1,
   "id": "408fbd36-43c7-4423-baee-43312887d954",
   "metadata": {},
   "outputs": [
    {
     "name": "stdin",
     "output_type": "stream",
     "text": [
      "enter a string FULL STACK data SCIENCE\n"
     ]
    },
    {
     "name": "stdout",
     "output_type": "stream",
     "text": [
      "the number of upper case letter in FULL STACK data SCIENCE is 16\n"
     ]
    }
   ],
   "source": [
    "def count_upper_letter(string):\n",
    "    count = 0\n",
    "    for letter in string:\n",
    "        if letter.isupper():\n",
    "            count += 1\n",
    "    return count\n",
    "\n",
    "string = input(\"enter a string\")\n",
    "print(f\"the number of upper case letter in {string} is {count_upper_letter(string)}\")\n",
    "    \n",
    "    \n",
    "        "
   ]
  },
  {
   "cell_type": "code",
   "execution_count": 3,
   "id": "9d593083-9566-41d4-8ee7-a75cc2ee43bb",
   "metadata": {},
   "outputs": [
    {
     "name": "stdin",
     "output_type": "stream",
     "text": [
      "enter a string PwSkills\n"
     ]
    },
    {
     "name": "stdout",
     "output_type": "stream",
     "text": [
      " the number of lower case letter in PwSkills is 6\n"
     ]
    }
   ],
   "source": [
    "def count_lower_letter(string):\n",
    "    count = 0\n",
    "    for letter in string:\n",
    "        if letter.islower():\n",
    "            count += 1\n",
    "    return count\n",
    "\n",
    "string = input(\"enter a string\")\n",
    "print(f\" the number of lower case letter in {string} is {count_lower_letter(string)}\")"
   ]
  },
  {
   "cell_type": "code",
   "execution_count": 9,
   "id": "6f70ed3c-0273-4e8b-8c80-3c892770a27a",
   "metadata": {},
   "outputs": [
    {
     "name": "stdout",
     "output_type": "stream",
     "text": [
      "HELLO WORLD\n"
     ]
    }
   ],
   "source": [
    "my_string = \"hello world\"\n",
    "swapped_string = my_string.swapcase()\n",
    "print(swapped_string)\n"
   ]
  },
  {
   "cell_type": "code",
   "execution_count": 18,
   "id": "1ba7c6c9-d568-4777-ac51-a27ab4c62eb7",
   "metadata": {},
   "outputs": [
    {
     "name": "stdout",
     "output_type": "stream",
     "text": [
      " is a good man\n"
     ]
    }
   ],
   "source": [
    "my_string = \"papa is a good man\"\n",
    "word_to_remove = \"papa\"\n",
    "new_string = my_string.replace(word_to_remove, \"\")\n",
    "print(new_string)"
   ]
  },
  {
   "cell_type": "code",
   "execution_count": 21,
   "id": "78d1a685-c6f5-4aaa-9991-9b87f0d4f339",
   "metadata": {},
   "outputs": [
    {
     "name": "stdout",
     "output_type": "stream",
     "text": [
      "example@example.com is a valid email address.\n"
     ]
    }
   ],
   "source": [
    "import re\n",
    "\n",
    "def is_valid_email(email):\n",
    "    pattern = r'\\b[A-Za-z0-9._%+-]+@[A-Za-z0-9.-]+\\.[A-Z|a-z]{2,7}\\b'\n",
    "    return re.match(pattern, email)\n",
    "\n",
    "email = \"example@example.com\"\n",
    "if is_valid_email(email):\n",
    "    print(f\"{email} is a valid email address.\")\n",
    "else:\n",
    "    print(f\"{email} is not a valid email address.\")\n"
   ]
  },
  {
   "cell_type": "code",
   "execution_count": 30,
   "id": "030939e3-f7c1-4ba3-9a6b-62e709e1a5bc",
   "metadata": {},
   "outputs": [
    {
     "name": "stdout",
     "output_type": "stream",
     "text": [
      "pwskills\n"
     ]
    }
   ],
   "source": [
    "email = \"pwskills@example.com\"\n",
    "username = email.split(\"@\") [0]\n",
    "print(username)"
   ]
  },
  {
   "cell_type": "code",
   "execution_count": 31,
   "id": "abee5177-c786-4363-a4f1-0c5ffd21c966",
   "metadata": {},
   "outputs": [
    {
     "name": "stdout",
     "output_type": "stream",
     "text": [
      "example.com\n"
     ]
    }
   ],
   "source": [
    "email = \"pwskills@example.com\"\n",
    "domain_name = email.split(\"@\") [1]\n",
    "print(domain_name)"
   ]
  },
  {
   "cell_type": "code",
   "execution_count": 32,
   "id": "118b413a-d1fc-4007-a9a0-152b104e2cb0",
   "metadata": {},
   "outputs": [
    {
     "name": "stdout",
     "output_type": "stream",
     "text": [
      "this is a string with multiple spaces\n"
     ]
    }
   ],
   "source": [
    "my_string = \"this  is  a  string  with  multiple  spaces\"\n",
    "single_space_string = \" \".join(my_string.split())\n",
    "print(single_space_string)\n"
   ]
  },
  {
   "cell_type": "code",
   "execution_count": 3,
   "id": "67789a7f-f80d-426c-a214-35cffa2e4774",
   "metadata": {},
   "outputs": [
    {
     "name": "stdout",
     "output_type": "stream",
     "text": [
      "Valid URL\n"
     ]
    }
   ],
   "source": [
    "def is_valid_url(url):\n",
    "    \n",
    "    valid_chars = set(\"abcdefghijklmnopqrstuvwxyzABCDEFGHIJKLMNOPQRSTUVWXYZ0123456789-._~:/?#[]@!$&'()*+,;=\")\n",
    "\n",
    "    \n",
    "    for char in url:\n",
    "        if char not in valid_chars:\n",
    "            return False\n",
    "\n",
    "    return True\n",
    "\n",
    "\n",
    "url = \"https://www.example.com\"\n",
    "if is_valid_url(url):\n",
    "    print(\"Valid URL\")\n",
    "else:\n",
    "    print(\"Invalid URL\")\n"
   ]
  },
  {
   "cell_type": "code",
   "execution_count": 46,
   "id": "b66ba728-0fa8-452c-83d1-616c01bc5e40",
   "metadata": {},
   "outputs": [
    {
     "name": "stdout",
     "output_type": "stream",
     "text": [
      "https\n"
     ]
    }
   ],
   "source": [
    "url = \"https://www.example.com\"\n",
    "extract_protocol = url.split(\":\") [0]\n",
    "print(extract_protocol)"
   ]
  },
  {
   "cell_type": "code",
   "execution_count": 2,
   "id": "6f764dd1-9f3f-4339-8c62-cce51f10996a",
   "metadata": {},
   "outputs": [
    {
     "name": "stdout",
     "output_type": "stream",
     "text": [
      "Hello World\n"
     ]
    }
   ],
   "source": [
    "import re\n",
    "\n",
    "my_string = \"Hello, World!\"\n",
    "no_punct_string = re.sub(r'[^\\w\\s]', '', my_string)\n",
    "print(no_punct_string)\n"
   ]
  },
  {
   "cell_type": "code",
   "execution_count": 3,
   "id": "fdd9ad58-ca19-487c-874c-ef5baf60121c",
   "metadata": {},
   "outputs": [],
   "source": [
    "def is_string_digits_only(s: str) -> bool:\n",
    "    return s.isdigit()\n"
   ]
  },
  {
   "cell_type": "code",
   "execution_count": 7,
   "id": "a229da7a-77ca-494d-ab93-b8a870e7531a",
   "metadata": {},
   "outputs": [
    {
     "data": {
      "text/plain": [
       "True"
      ]
     },
     "execution_count": 7,
     "metadata": {},
     "output_type": "execute_result"
    }
   ],
   "source": [
    "is_string_digits_only(\"12345\")"
   ]
  },
  {
   "cell_type": "code",
   "execution_count": 7,
   "id": "ab9afc06-f59e-431d-973a-b9ea3e6223f3",
   "metadata": {},
   "outputs": [
    {
     "name": "stdout",
     "output_type": "stream",
     "text": [
      "this string contains only alphabets\n"
     ]
    }
   ],
   "source": [
    "string = \"HelloWorld\"\n",
    "if string.isalpha():\n",
    "    print(\"this string contains only alphabets\")\n",
    "else:\n",
    "    print(\"this string contains non-alphabetic characters\")"
   ]
  },
  {
   "cell_type": "code",
   "execution_count": 11,
   "id": "8985ee92-f4e5-4625-b85e-b64e71e0ea11",
   "metadata": {},
   "outputs": [
    {
     "name": "stdout",
     "output_type": "stream",
     "text": [
      "['p', 'w', 's', 'k', 'i', 'l', 'l', 's']\n"
     ]
    }
   ],
   "source": [
    "string = \"pwskills\"\n",
    "char_list = list(string)\n",
    "print(char_list)"
   ]
  },
  {
   "cell_type": "code",
   "execution_count": 4,
   "id": "0ed5cc38-551e-453e-a6e1-005fd390f041",
   "metadata": {},
   "outputs": [
    {
     "name": "stdout",
     "output_type": "stream",
     "text": [
      "silent and listen are anagrams\n"
     ]
    }
   ],
   "source": [
    "def is_anagram(str1 : str,str2 : str):\n",
    "    return sorted(str1.lower()) == sorted(str2.lower())\n",
    "\n",
    "str1 = \"silent\"\n",
    "str2 = \"listen\"\n",
    "if is_anagram(str1 , str2):\n",
    "    print(f\"{str1} and {str2} are anagrams\")\n",
    "else:\n",
    "     print(f\"{str1} and {str2} are not anagrams\")     \n",
    "          "
   ]
  },
  {
   "cell_type": "code",
   "execution_count": 3,
   "id": "3ae4deb6-5d66-48d1-a5da-1164e7a39b62",
   "metadata": {},
   "outputs": [
    {
     "name": "stdout",
     "output_type": "stream",
     "text": [
      "Encoded message: Khoor, Zruog!\n"
     ]
    }
   ],
   "source": [
    "def caesar_cipher_encode(message: str, key: int) -> str:\n",
    "    result = \"\"\n",
    "    for character in message:\n",
    "        if character.isalpha():\n",
    "            shift = key % 26\n",
    "            if character.islower():\n",
    "                result += chr((ord(character) - ord('a') + shift) % 26 + ord('a'))\n",
    "            else:\n",
    "                result += chr((ord(character) - ord('A') + shift) % 26 + ord('A'))\n",
    "        else:\n",
    "            result += character\n",
    "    return result\n",
    "\n",
    "# Example usage\n",
    "message = \"Hello, World!\"\n",
    "key = 3\n",
    "encoded_message = caesar_cipher_encode(message, key)\n",
    "print(f\"Encoded message: {encoded_message}\")\n"
   ]
  },
  {
   "cell_type": "code",
   "execution_count": 5,
   "id": "226567eb-0a54-4028-9644-58ae10f6bb2a",
   "metadata": {},
   "outputs": [],
   "source": [
    "import string\n",
    "\n",
    "def caesar_cipher_decode(ciphertext, key):\n",
    "    \"\"\"\n",
    "    Decrypts a string encoded using the Caesar cipher.\n",
    "\n",
    "    Args:\n",
    "        ciphertext (str): The string to be decrypted.\n",
    "        key (int): The number of positions to shift each character.\n",
    "\n",
    "    Returns:\n",
    "        str: The decrypted string.\n",
    "    \"\"\"\n",
    "    plaintext = \"\"\n",
    "    for character in ciphertext:\n",
    "        if character.isalpha():\n",
    "            shifted_character = chr((ord(character) - ord('a') - key) % 26 + ord('a')) if character.islower() else chr((ord(character) - ord('A') - key) % 26 + ord('A'))\n",
    "            plaintext += shifted_character\n",
    "        else:\n",
    "            plaintext += character\n",
    "    return plaintext\n",
    "             "
   ]
  },
  {
   "cell_type": "code",
   "execution_count": 6,
   "id": "1e108e40-dbd6-4779-8131-339ba5461347",
   "metadata": {},
   "outputs": [
    {
     "data": {
      "text/plain": [
       "'hello world'"
      ]
     },
     "execution_count": 6,
     "metadata": {},
     "output_type": "execute_result"
    }
   ],
   "source": [
    ">>> caesar_cipher_decode(\"khoor zruog\", 3)\n",
    "\n"
   ]
  },
  {
   "cell_type": "code",
   "execution_count": 9,
   "id": "25463366-2156-4aa1-a0eb-eda0e78da6a0",
   "metadata": {},
   "outputs": [
    {
     "name": "stdout",
     "output_type": "stream",
     "text": [
      "The most frequent word in the string is **string.**.\n"
     ]
    }
   ],
   "source": [
    "from collections import Counter\n",
    "\n",
    "string = \"This is a sample string. It contains some words that are repeated. Let's find the most frequent word in this string.\"\n",
    "\n",
    "words = string.split()\n",
    "word_counts = Counter(words)\n",
    "\n",
    "most_frequent_word = word_counts.most_common(1)[0][0]\n",
    "\n",
    "print(f\"The most frequent word in the string is **{most_frequent_word}**.\")\n"
   ]
  },
  {
   "cell_type": "code",
   "execution_count": 12,
   "id": "6d39098d-cb2c-4fd1-a0f2-62997c6df652",
   "metadata": {},
   "outputs": [
    {
     "name": "stdout",
     "output_type": "stream",
     "text": [
      "The unique words in the string are: **a, is, Let's, all, are, some, this, in, find, It, words, contains, that, string., repeated., This, unique, sample**.\n"
     ]
    }
   ],
   "source": [
    "string = \"This is a sample string. It contains some words that are repeated. Let's find all unique words in this string.\"\n",
    "\n",
    "words = string.split()\n",
    "unique_words = set(words)\n",
    "\n",
    "print(f\"The unique words in the string are: **{', '.join(unique_words)}**.\")\n"
   ]
  },
  {
   "cell_type": "code",
   "execution_count": 15,
   "id": "2a2a752c-cbd3-4001-8051-0638c4a2fed5",
   "metadata": {},
   "outputs": [
    {
     "name": "stdout",
     "output_type": "stream",
     "text": [
      "The number of syllables in the string is **32**.\n"
     ]
    }
   ],
   "source": [
    "string = \"This is a sample string. It contains some words that are repeated. Let's count the number of syllables in this string.\"\n",
    "\n",
    "vowels = \"aeiouy\"\n",
    "syllable_count = 0\n",
    "\n",
    "for word in string.split():\n",
    "    for vowel in vowels:\n",
    "        syllable_count += word.count(vowel)\n",
    "    for ending in [\"es\", \"ed\", \"e\"]:\n",
    "        if word.endswith(ending):\n",
    "            syllable_count -= word[-len(ending)-1:-len(ending)].count(vowels)\n",
    "\n",
    "print(f\"The number of syllables in the string is **{syllable_count}**.\")\n"
   ]
  },
  {
   "cell_type": "code",
   "execution_count": 17,
   "id": "495b9823-26d9-4e8e-bf21-2aeb51afeeb3",
   "metadata": {},
   "outputs": [
    {
     "name": "stdout",
     "output_type": "stream",
     "text": [
      "string is not accepted\n"
     ]
    }
   ],
   "source": [
    "n = \"full@stack$datascience&pro\"\n",
    "n.split()\n",
    "c = 0\n",
    "s = '[@_!#$%^&*()<>?/\\|}{~:]'  \n",
    "for i in range(len(n)):\n",
    "    \n",
    "    if n[i] in s:\n",
    "        c += 1   \n",
    " \n",
    "\n",
    "\n",
    "if c:\n",
    "    print(\"string is not accepted\")\n",
    "else:\n",
    "    print(\"string accepted\")"
   ]
  },
  {
   "cell_type": "code",
   "execution_count": 20,
   "id": "74c680ca-a94c-4e94-ba58-458e1347ccb3",
   "metadata": {},
   "outputs": [
    {
     "name": "stdout",
     "output_type": "stream",
     "text": [
      "This is sentence with five words.\n"
     ]
    }
   ],
   "source": [
    "def remove_nth_word(string, n):\n",
    "  \"\"\"Removes the nth word from a string.\n",
    "\n",
    "  Args:\n",
    "    string: The string to remove the word from.\n",
    "    n: The index of the word to remove.\n",
    "\n",
    "  Returns:\n",
    "    A new string with the nth word removed.\n",
    "  \"\"\"\n",
    "\n",
    "  words = string.split()\n",
    "  del words[n - 1]\n",
    "  return \" \".join(words)\n",
    "\n",
    "string = \"This is a sentence with five words.\"\n",
    "n = 3\n",
    "new_string = remove_nth_word(string, n)\n",
    "\n",
    "print(new_string)\n"
   ]
  },
  {
   "cell_type": "code",
   "execution_count": 23,
   "id": "e45ee707-84d3-4cd5-ba8b-88c938078eee",
   "metadata": {},
   "outputs": [
    {
     "name": "stdout",
     "output_type": "stream",
     "text": [
      "The new string is: **is a sample string. It contains some words that are repeated. Let's remove the nth word from this string.**.\n"
     ]
    }
   ],
   "source": [
    "string = \"This is a sample string. It contains some words that are repeated. Let's remove the nth word from this string.\"\n",
    "\n",
    "n = 0\n",
    "words = string.split()\n",
    "words.pop(n)\n",
    "new_string = ' '.join(words)\n",
    "\n",
    "print(f\"The new string is: **{new_string}**.\")\n"
   ]
  },
  {
   "cell_type": "code",
   "execution_count": 24,
   "id": "fad7d7b2-e214-4b4f-a687-256b49607c7f",
   "metadata": {},
   "outputs": [
    {
     "name": "stdout",
     "output_type": "stream",
     "text": [
      "The new string is: **This is a new_word sample string. It contains some words that are repeated. Let's insert a word at the nth position in this string.**.\n"
     ]
    }
   ],
   "source": [
    "string = \"This is a sample string. It contains some words that are repeated. Let's insert a word at the nth position in this string.\"\n",
    "\n",
    "n = 3  \n",
    "word_to_insert = \"new_word\"\n",
    "words = string.split()\n",
    "words.insert(n, word_to_insert)\n",
    "new_string = ' '.join(words)\n",
    "\n",
    "print(f\"The new string is: **{new_string}**.\")\n"
   ]
  },
  {
   "cell_type": "code",
   "execution_count": 25,
   "id": "2a84712e-c444-48fb-af39-caad34874649",
   "metadata": {},
   "outputs": [
    {
     "name": "stdout",
     "output_type": "stream",
     "text": [
      "The CSV string is: **1,2,3\n",
      "4,5,6\n",
      "7,8,9**.\n",
      "The CSV list is: **['1,2,3', '4,5,6', '7,8,9']**.\n",
      "The CSV list of lists is: **[['1', '2', '3'], ['4', '5', '6'], ['7', '8', '9']]**.\n"
     ]
    }
   ],
   "source": [
    "import csv\n",
    "\n",
    "csv_string = \"1,2,3\\n4,5,6\\n7,8,9\"\n",
    "csv_list = csv_string.strip().split('\\n')\n",
    "csv_list_of_lists = [row.split(',') for row in csv_list]\n",
    "\n",
    "print(f\"The CSV string is: **{csv_string}**.\")\n",
    "print(f\"The CSV list is: **{csv_list}**.\")\n",
    "print(f\"The CSV list of lists is: **{csv_list_of_lists}**.\")\n"
   ]
  },
  {
   "cell_type": "code",
   "execution_count": 30,
   "id": "8d6e2c51-8221-4bd5-9776-867913c9d931",
   "metadata": {},
   "outputs": [
    {
     "name": "stdout",
     "output_type": "stream",
     "text": [
      "[1, 2, 3, 4, 5, 6, 7, 8, 9, 10]\n"
     ]
    }
   ],
   "source": [
    "my_list = list(range(1,11))\n",
    "print(my_list)\n"
   ]
  },
  {
   "cell_type": "code",
   "execution_count": 32,
   "id": "f86e48de-cfa1-48ff-83a1-89a5606dc594",
   "metadata": {},
   "outputs": [
    {
     "name": "stdout",
     "output_type": "stream",
     "text": [
      "the length of the list is 5\n"
     ]
    }
   ],
   "source": [
    "my_list = [1,2,3,4,5]\n",
    "count = 0\n",
    "for elements in my_list:\n",
    "    count += 1\n",
    "print(f\"the length of the list is {count}\")    "
   ]
  },
  {
   "cell_type": "code",
   "execution_count": 35,
   "id": "ac27218e-99f2-47bd-ab04-b6566c00fae3",
   "metadata": {},
   "outputs": [
    {
     "name": "stdout",
     "output_type": "stream",
     "text": [
      "[1, 2, 3, 4, 5, 6]\n"
     ]
    }
   ],
   "source": [
    "my_list = [1,2,3,4,5]\n",
    "my_list.append(6)\n",
    "print(my_list)"
   ]
  },
  {
   "cell_type": "code",
   "execution_count": 40,
   "id": "537da150-5b74-42cd-b627-08cf71c73904",
   "metadata": {},
   "outputs": [
    {
     "name": "stdout",
     "output_type": "stream",
     "text": [
      "[1, 2, 5, 3, 4, 5]\n"
     ]
    }
   ],
   "source": [
    "my_list = [1,2,3,4,5]\n",
    "my_list.insert(2,5)\n",
    "print(my_list)"
   ]
  },
  {
   "cell_type": "code",
   "execution_count": 41,
   "id": "208ca7d3-2a3b-41d1-979a-08601f5dfbc5",
   "metadata": {},
   "outputs": [
    {
     "name": "stdout",
     "output_type": "stream",
     "text": [
      "[1, 2, 3, 5]\n"
     ]
    }
   ],
   "source": [
    "my_list = [1,2,3,4,5]\n",
    "my_list.pop(3)\n",
    "print(my_list)"
   ]
  },
  {
   "cell_type": "code",
   "execution_count": 43,
   "id": "18c33ebf-776e-44c4-ad8c-f8acb54591ad",
   "metadata": {},
   "outputs": [
    {
     "name": "stdout",
     "output_type": "stream",
     "text": [
      "[1, 2, 4, 5]\n"
     ]
    }
   ],
   "source": [
    "my_list = [1,2,3,4,5]\n",
    "del my_list[2]\n",
    "print(my_list)"
   ]
  },
  {
   "cell_type": "code",
   "execution_count": 44,
   "id": "4a728f2a-2ac5-4612-bdca-c34de90ef9e0",
   "metadata": {},
   "outputs": [
    {
     "name": "stdout",
     "output_type": "stream",
     "text": [
      "3 exists in the list\n"
     ]
    }
   ],
   "source": [
    "my_list = [1,2,3,4,5]\n",
    "if 3 in my_list:\n",
    "    print(\"3 exists in the list\")\n",
    "else:\n",
    "    print(\"3 doesn't exist in the list\")"
   ]
  },
  {
   "cell_type": "code",
   "execution_count": 1,
   "id": "c17819aa-ed00-4270-860c-fbf3a0186ffb",
   "metadata": {},
   "outputs": [
    {
     "data": {
      "text/plain": [
       "3"
      ]
     },
     "execution_count": 1,
     "metadata": {},
     "output_type": "execute_result"
    }
   ],
   "source": [
    "my_list = [1,2,3,4,5]\n",
    "my_list.index(4)\n"
   ]
  },
  {
   "cell_type": "code",
   "execution_count": 47,
   "id": "ae6fbc70-d67c-4182-8896-53af133c06ee",
   "metadata": {},
   "outputs": [
    {
     "name": "stdout",
     "output_type": "stream",
     "text": [
      "the element 1 occurs 3 times in the list.\n"
     ]
    }
   ],
   "source": [
    "my_list = [1,2,3,4,5,1,2,3,1]\n",
    "element = 1\n",
    "count = my_list.count(element)\n",
    "print(f\"the element {element} occurs {count} times in the list.\")"
   ]
  },
  {
   "cell_type": "code",
   "execution_count": 55,
   "id": "4308f8fe-be4f-467c-8cd3-fb8e24bdfbef",
   "metadata": {},
   "outputs": [
    {
     "name": "stdout",
     "output_type": "stream",
     "text": [
      "[9, 8, 7, 6, 5, 4, 3, 2, 1]\n"
     ]
    }
   ],
   "source": [
    "my_list = [1,2,3,4,5,6,7,8,9]\n",
    "my_list.reverse()\n",
    "print(my_list)"
   ]
  },
  {
   "cell_type": "code",
   "execution_count": 58,
   "id": "ed9336e2-0d91-4eb4-a299-2858c12b9d7d",
   "metadata": {},
   "outputs": [
    {
     "name": "stdout",
     "output_type": "stream",
     "text": [
      "[1, 2, 3, 4, 5, 6, 7, 8]\n"
     ]
    }
   ],
   "source": [
    "my_list = [5,7,8,4,1,3,6,2]\n",
    "my_list.sort()\n",
    "print(my_list)"
   ]
  },
  {
   "cell_type": "code",
   "execution_count": 59,
   "id": "ebec3041-cd9b-4ade-a456-3e3ed62230e0",
   "metadata": {},
   "outputs": [
    {
     "name": "stdout",
     "output_type": "stream",
     "text": [
      "the sorted list in ascending order is : [9, 6, 5, 5, 5, 4, 3, 3, 2, 1, 1] \n"
     ]
    }
   ],
   "source": [
    "my_list = [3, 1, 4, 1, 5, 9, 2, 6, 5, 3, 5]\n",
    "sorted_list = sorted(my_list,reverse = True)\n",
    "print(f'the sorted list in ascending order is : {sorted_list} ')"
   ]
  },
  {
   "cell_type": "code",
   "execution_count": 2,
   "id": "61792c35-0310-444c-9573-a1bb59a68f2c",
   "metadata": {},
   "outputs": [
    {
     "name": "stdout",
     "output_type": "stream",
     "text": [
      " the number of even numbers from 1 to 20 are: [2, 4, 6, 8, 10, 12, 14, 16, 18, 20]\n"
     ]
    }
   ],
   "source": [
    "even_numbers = [i for i in range (2,21,2)]\n",
    "print(f\" the number of even numbers from 1 to 20 are: {even_numbers}\")"
   ]
  },
  {
   "cell_type": "code",
   "execution_count": 4,
   "id": "c1376bad-d0df-4889-aa7a-689f312e1915",
   "metadata": {},
   "outputs": [
    {
     "name": "stdout",
     "output_type": "stream",
     "text": [
      " the number of odd numbers from 1 to 20 are: [1, 3, 5, 7, 9, 11, 13, 15, 17, 19]\n"
     ]
    }
   ],
   "source": [
    "odd_numbers = [i for i in range (1,21,2)]\n",
    "print(f\" the number of odd numbers from 1 to 20 are: {odd_numbers}\")"
   ]
  },
  {
   "cell_type": "code",
   "execution_count": 17,
   "id": "1b00cd1e-34ce-4ae0-8085-b5274a7ceee9",
   "metadata": {},
   "outputs": [
    {
     "name": "stdout",
     "output_type": "stream",
     "text": [
      " the sum of all elements in the digit is: 119 \n"
     ]
    }
   ],
   "source": [
    "my_list = [2,4,5,7,8,93]\n",
    "total = 0\n",
    "for i in my_list:\n",
    "    total += i\n",
    "print(f\" the sum of all elements in the digit is: {total} \")"
   ]
  },
  {
   "cell_type": "code",
   "execution_count": 20,
   "id": "53f42c39-5f61-4733-a178-87c9c9d139da",
   "metadata": {},
   "outputs": [
    {
     "name": "stdout",
     "output_type": "stream",
     "text": [
      "the maximum value in the list is : 93\n"
     ]
    }
   ],
   "source": [
    "my_list = [2,4,5,7,8,93]\n",
    "maximum_value = max(my_list)\n",
    "print(f\"the maximum value in the list is : {maximum_value}\")"
   ]
  },
  {
   "cell_type": "code",
   "execution_count": 21,
   "id": "b3d2cda2-7516-461a-b352-36843cc64d21",
   "metadata": {},
   "outputs": [
    {
     "name": "stdout",
     "output_type": "stream",
     "text": [
      "the minimum value in the list is : 2\n"
     ]
    }
   ],
   "source": [
    "my_list = [2,4,5,7,8,93]\n",
    "minimum_value = min(my_list)\n",
    "print(f\"the minimum value in the list is : {minimum_value}\")"
   ]
  },
  {
   "cell_type": "code",
   "execution_count": 23,
   "id": "978c38a0-6957-4b61-988c-2dcee4464a93",
   "metadata": {},
   "outputs": [
    {
     "name": "stdout",
     "output_type": "stream",
     "text": [
      " the list of squares of number from 1 to 10 is : [1, 4, 9, 16, 25, 36, 49, 64, 81, 100]\n"
     ]
    }
   ],
   "source": [
    "squares = [i**2 for i in range(1,11)]\n",
    "print(f\" the list of squares of number from 1 to 10 is : {squares}\")"
   ]
  },
  {
   "cell_type": "code",
   "execution_count": 1,
   "id": "6b02c1ba-d152-44fb-b00a-0f74eea9603f",
   "metadata": {},
   "outputs": [
    {
     "name": "stdout",
     "output_type": "stream",
     "text": [
      "[6, 5, 5, 3, 5, 5, 5, 7, 9, 8]\n"
     ]
    }
   ],
   "source": [
    "import random\n",
    "\n",
    "rand_list=[]\n",
    "n=10\n",
    "for i in range(n):\n",
    "\trand_list.append(random.randint(3,9))\n",
    "print(rand_list)\n"
   ]
  },
  {
   "cell_type": "code",
   "execution_count": 5,
   "id": "115ecaa9-e0cf-4e77-be86-462d68aad4fb",
   "metadata": {},
   "outputs": [
    {
     "name": "stdout",
     "output_type": "stream",
     "text": [
      "The original list is : [1, 5, 3, 6, 3, 5, 6, 1]\n",
      "The list after removing duplicates : [1, 3, 5, 6]\n"
     ]
    }
   ],
   "source": [
    "test_list = [1, 5, 3, 6, 3, 5, 6, 1]\n",
    "print (\"The original list is : \"\n",
    "\t\t+ str(test_list))\n",
    "\n",
    "\n",
    "test_list = list(set(test_list))\n",
    "print (\"The list after removing duplicates : \"\n",
    "\t\t+ str(test_list))\n"
   ]
  },
  {
   "cell_type": "code",
   "execution_count": 10,
   "id": "d3dd4a81-a91d-41b1-b012-ec6973555923",
   "metadata": {},
   "outputs": [
    {
     "name": "stdout",
     "output_type": "stream",
     "text": [
      "the original list is : [1, 5, 3, 6, 3, 5, 6, 1]\n",
      "the list after removing duplicates is : [1, 3, 5, 6]\n"
     ]
    }
   ],
   "source": [
    "test_list = [1, 5, 3, 6, 3, 5, 6, 1]\n",
    "print(\"the original list is : \" + str(test_list))\n",
    "\n",
    "test_list = list(set(test_list))\n",
    "print(\"the list after removing duplicates is : \" +str (test_list))"
   ]
  },
  {
   "cell_type": "code",
   "execution_count": 16,
   "id": "d081fbbc-16fd-469a-bf4f-30efe808226a",
   "metadata": {},
   "outputs": [
    {
     "name": "stdout",
     "output_type": "stream",
     "text": [
      "{5}\n"
     ]
    }
   ],
   "source": [
    "def common_element(a , b):\n",
    "    a_set = set(a)\n",
    "    b_set = set(b)\n",
    "    \n",
    "    if (a_set & b_set):\n",
    "        print(a_set & b_set)\n",
    "    else:\n",
    "        print(\"no common elements found\")   \n",
    "        \n",
    "a = [1, 2, 3, 4, 5]\n",
    "b = [5, 6, 7, 8, 9]   \n",
    "\n",
    "common_element(a,b)"
   ]
  },
  {
   "cell_type": "code",
   "execution_count": 6,
   "id": "8d36ed07-1702-4521-84b0-be33fc80fe15",
   "metadata": {},
   "outputs": [
    {
     "name": "stdout",
     "output_type": "stream",
     "text": [
      "[10, 15, 20, 30]\n"
     ]
    }
   ],
   "source": [
    "li1 = [10, 15, 20, 25, 30, 35, 40]\n",
    "li2 = [25, 40, 35]\n",
    "\n",
    "temp3 = []\n",
    "\n",
    "for elements in li1:\n",
    "    if elements not in  li2:\n",
    "        temp3.append(elements)\n",
    "        \n",
    "print(temp3)        \n"
   ]
  },
  {
   "cell_type": "code",
   "execution_count": 19,
   "id": "85f4183d-4b5e-438d-b53a-a8933dec9e68",
   "metadata": {},
   "outputs": [
    {
     "name": "stdout",
     "output_type": "stream",
     "text": [
      "Concatenated list using naive method : [1, 4, 5, 6, 5, 3, 5, 7, 2, 5]\n"
     ]
    }
   ],
   "source": [
    "test_list1 = [1, 4, 5, 6, 5]\n",
    "test_list2 = [3, 5, 7, 2, 5]\n",
    "\n",
    "\n",
    "for i in test_list2 :\n",
    "\ttest_list1.append(i)\n",
    "\n",
    "\n",
    "print (\"Concatenated list using naive method : \"+ str(test_list1))\n"
   ]
  },
  {
   "cell_type": "code",
   "execution_count": 26,
   "id": "520ae9f6-e3f1-4be4-9107-495907da9728",
   "metadata": {},
   "outputs": [
    {
     "name": "stdout",
     "output_type": "stream",
     "text": [
      "12\n",
      "48\n"
     ]
    }
   ],
   "source": [
    "def multiply_list(my_list):\n",
    "    result = 2\n",
    "    for x in my_list:\n",
    "        result = result * x\n",
    "    return result    \n",
    "\n",
    "list1 = [1, 2, 3]\n",
    "list2 = [3, 2, 4]\n",
    "print(multiply_list(list1))\n",
    "print(multiply_list(list2))\n"
   ]
  },
  {
   "cell_type": "code",
   "execution_count": 29,
   "id": "c1ff6857-5508-467f-83e1-ba709f29fc81",
   "metadata": {},
   "outputs": [
    {
     "name": "stdout",
     "output_type": "stream",
     "text": [
      "[2, 4, 6, 8, 10]\n"
     ]
    }
   ],
   "source": [
    "list = [1,2,3,4,5,6,7,8,9,10]\n",
    "even = []\n",
    "\n",
    "for num in list:\n",
    "    if num % 2 == 0:\n",
    "        even.append(num)\n",
    "print(even)    "
   ]
  },
  {
   "cell_type": "code",
   "execution_count": 37,
   "id": "f84aeb2b-a9b3-4ffa-9b9d-aef61f2f57ca",
   "metadata": {},
   "outputs": [
    {
     "name": "stdout",
     "output_type": "stream",
     "text": [
      "the modified list is :[1, 4, 3, 6, 7]\n"
     ]
    }
   ],
   "source": [
    "test_list = ['1', '4', '3', '6', '7']\n",
    "test_list = [int(i) for i in test_list]\n",
    "print(\"the modified list is :\"  + str(test_list))"
   ]
  },
  {
   "cell_type": "code",
   "execution_count": 39,
   "id": "f9279c4a-055d-44d0-88e7-a62eb3fb1559",
   "metadata": {},
   "outputs": [
    {
     "name": "stdout",
     "output_type": "stream",
     "text": [
      "the modified list is : ['1', '2', '3', '4', '5', '6', '7', '8', '9', '10']\n"
     ]
    }
   ],
   "source": [
    "list = [1,2,3,4,5,6,7,8,9,10]\n",
    "list = [str(i) for i in list]\n",
    "print(\"the modified list is : \" + str(list))"
   ]
  },
  {
   "cell_type": "code",
   "execution_count": 2,
   "id": "d5e7bbde-895e-4bfb-b833-6000eaf3c070",
   "metadata": {},
   "outputs": [
    {
     "name": "stdout",
     "output_type": "stream",
     "text": [
      "List [[11, 22, 33, 44], [55, 66, 77], [88, 99, 100]]\n",
      "Flat List [11, 22, 33, 44, 55, 66, 77, 88, 99, 100]\n"
     ]
    }
   ],
   "source": [
    "def flat(lis):\n",
    "    flatlist = []\n",
    "    for element in lis:\n",
    "        if type(element) is list:\n",
    "            for item in element:\n",
    "                flatlist.append(item)\n",
    "        else:\n",
    "            flatlist.append(element)\n",
    "    return flatlist\n",
    "\n",
    "lis = [[11, 22, 33, 44], [55, 66, 77], [88, 99, 100]]\n",
    "print('List', lis)\n",
    "print('Flat List', flat(lis))"
   ]
  },
  {
   "cell_type": "code",
   "execution_count": 6,
   "id": "2c77af17-8d61-4eac-a95d-aef635a93837",
   "metadata": {},
   "outputs": [
    {
     "name": "stdout",
     "output_type": "stream",
     "text": [
      "34\n"
     ]
    }
   ],
   "source": [
    "def Fibonacci(n):\n",
    "\tif n<= 0:\n",
    "\t\tprint(\"Incorrect input\")\n",
    "\t\n",
    "\telif n == 1:\n",
    "\t\treturn 0\n",
    "\t\n",
    "\telif n == 2:\n",
    "\t\treturn 1\n",
    "\telse:\n",
    "\t\treturn Fibonacci(n-1)+Fibonacci(n-2)\n",
    "\n",
    "\n",
    "\n",
    "print(Fibonacci(10))\n"
   ]
  },
  {
   "cell_type": "code",
   "execution_count": 2,
   "id": "8d53d020-4a8f-46d0-ab64-ffd8c3d852f0",
   "metadata": {},
   "outputs": [
    {
     "name": "stdout",
     "output_type": "stream",
     "text": [
      "yes , list is sorted\n"
     ]
    }
   ],
   "source": [
    "test_list = [1,4,5,8,10]\n",
    "flag = 0\n",
    "\n",
    "if (test_list == sorted(test_list)):\n",
    "    flag = 1\n",
    "    print(\"yes , list is sorted\")\n",
    "    \n",
    "else:\n",
    "    print(\"No , list is not sorted\")"
   ]
  },
  {
   "cell_type": "code",
   "execution_count": 4,
   "id": "2aeb2fb4-8c67-4ef7-9498-f68fc2d83c79",
   "metadata": {},
   "outputs": [
    {
     "name": "stdout",
     "output_type": "stream",
     "text": [
      " the original list : [1, 2, 3, 4, 5]\n",
      " list after left rotation by 2 positions : [3, 4, 5, 1, 2]\n"
     ]
    }
   ],
   "source": [
    "def rotate_left(test_list , n):\n",
    "    return test_list[n:] + test_list[:n]\n",
    "\n",
    "test_list = [1,2,3,4,5]\n",
    "n = 2\n",
    "print(f\" the original list : {test_list}\")\n",
    "print(f\" list after left rotation by {n} positions : {rotate_left(test_list , n)}\")"
   ]
  },
  {
   "cell_type": "code",
   "execution_count": 9,
   "id": "9cf05b8e-2884-4dca-8662-f61d30ffddef",
   "metadata": {},
   "outputs": [
    {
     "name": "stdout",
     "output_type": "stream",
     "text": [
      " the original list is [3, 4, 5, 1, 2]\n",
      " list after right rotation ny 2 positions : [1, 2, 3, 4, 5]\n"
     ]
    }
   ],
   "source": [
    "def rotate_right(test_list , n):\n",
    "    return test_list[-n:] + test_list[:-n]\n",
    "\n",
    "test_list = [3,4,5,1,2]\n",
    "n = 2\n",
    "print(f\" the original list is {test_list}\")\n",
    "print(f\" list after right rotation ny {n} positions : {rotate_right(test_list , n)}\")"
   ]
  },
  {
   "cell_type": "code",
   "execution_count": 10,
   "id": "061fee34-db2e-4cbf-be19-276b2e19c9cf",
   "metadata": {},
   "outputs": [
    {
     "name": "stdout",
     "output_type": "stream",
     "text": [
      "The prime numbers in this range are:  [2, 3, 5, 7, 11, 13, 17, 19, 23, 29, 31, 37, 41, 43, 47]\n"
     ]
    }
   ],
   "source": [
    "def prime(x, y):\n",
    "\tprime_list = []\n",
    "\tfor i in range(x, y):\n",
    "\t\tif i == 0 or i == 1:\n",
    "\t\t\tcontinue\n",
    "\t\telse:\n",
    "\t\t\tfor j in range(2, int(i/2)+1):\n",
    "\t\t\t\tif i % j == 0:\n",
    "\t\t\t\t\tbreak\n",
    "\t\t\telse:\n",
    "\t\t\t\tprime_list.append(i)\n",
    "\treturn prime_list\n",
    "\n",
    "\n",
    "starting_range = 1\n",
    "ending_range = 50\n",
    "lst = prime(starting_range, ending_range)\n",
    "if len(lst) == 0:\n",
    "\tprint(\"There are no prime numbers in this range\")\n",
    "else:\n",
    "\tprint(\"The prime numbers in this range are: \", lst)\n"
   ]
  },
  {
   "cell_type": "code",
   "execution_count": 11,
   "id": "fe5ad0bc-15af-4c3d-9e68-e08dddb7a9cb",
   "metadata": {},
   "outputs": [
    {
     "name": "stdout",
     "output_type": "stream",
     "text": [
      "[1, 2, 3]\n",
      "[4, 5, 6]\n",
      "[7, 8, 9]\n"
     ]
    }
   ],
   "source": [
    "my_list = [1, 2, 3, 4, 5, \n",
    "\t\t6, 7, 8, 9] \n",
    "start = 0\n",
    "end = len(my_list) \n",
    "step = 3\n",
    "for i in range(start, end, step): \n",
    "\tx = i \n",
    "\tprint(my_list[x:x+step]) \n"
   ]
  },
  {
   "cell_type": "code",
   "execution_count": 12,
   "id": "4841d372-5228-40e2-85cb-a36df94662a8",
   "metadata": {},
   "outputs": [
    {
     "name": "stdout",
     "output_type": "stream",
     "text": [
      "[1, 4, 9, 16, 25]\n"
     ]
    }
   ],
   "source": [
    "def square_list(list1):\n",
    "  for i in range(len(list1)):\n",
    "    list1[i] = list1[i] ** 2\n",
    "\n",
    "\n",
    "my_list = [1, 2, 3, 4, 5]\n",
    "square_list(my_list)\n",
    "print(my_list)"
   ]
  },
  {
   "cell_type": "code",
   "execution_count": 13,
   "id": "ab76e14c-97fb-4600-8072-38e1b4392499",
   "metadata": {},
   "outputs": [
    {
     "name": "stdout",
     "output_type": "stream",
     "text": [
      "{1: 0, 2: 1, 3: 2, 4: 3, 5: 4}\n"
     ]
    }
   ],
   "source": [
    "def convert_list_to_dict(list1):\n",
    "    result = {}\n",
    "    for i, elem in enumerate(list1):\n",
    "        result[elem] = i\n",
    "    return result\n",
    "\n",
    "\n",
    "list1 = [1, 2, 3, 4, 5]\n",
    "dict1 = convert_list_to_dict(list1)\n",
    "print(dict1)"
   ]
  },
  {
   "cell_type": "code",
   "execution_count": 14,
   "id": "b846b521-8092-41c1-a731-f641f5f21643",
   "metadata": {},
   "outputs": [
    {
     "name": "stdout",
     "output_type": "stream",
     "text": [
      "['cherry', 'apple', 'banana']\n"
     ]
    }
   ],
   "source": [
    "import random\n",
    "\n",
    "mylist = [\"apple\", \"banana\", \"cherry\"]\n",
    "random.shuffle(mylist)\n",
    "\n",
    "print(mylist)\n"
   ]
  },
  {
   "cell_type": "code",
   "execution_count": 17,
   "id": "594ada1f-cf63-4d58-ba52-4129f838b0e7",
   "metadata": {},
   "outputs": [
    {
     "name": "stdout",
     "output_type": "stream",
     "text": [
      "Factorial of 1 is 1\n",
      "Factorial of 2 is 2\n",
      "Factorial of 3 is 12\n",
      "Factorial of 4 is 288\n",
      "Factorial of 5 is 34560\n",
      "Factorial of 6 is 24883200\n",
      "Factorial of 7 is 125411328000\n",
      "Factorial of 8 is 5056584744960000\n",
      "Factorial of 9 is 1834933472251084800000\n",
      "Factorial of 10 is 6658606584104736522240000000\n"
     ]
    }
   ],
   "source": [
    "list = {1, 2, 3, 4, 5,6,7,8,9,10}\n",
    "\n",
    "input_set = {1, 2, 3, 4, 5,6,7,8,9,10}\n",
    "fact = 1\n",
    "for item in input_set:\n",
    "    for number in range(1,item+1):\n",
    "        fact = fact * number\n",
    "    print (\"Factorial of\", item, \"is\", fact)"
   ]
  },
  {
   "cell_type": "code",
   "execution_count": 18,
   "id": "8801b4bb-3e51-408f-b10f-80cfa20cfa4c",
   "metadata": {},
   "outputs": [
    {
     "name": "stdout",
     "output_type": "stream",
     "text": [
      "True\n",
      "False\n"
     ]
    }
   ],
   "source": [
    "def common_data(list1, list2):\n",
    "\tresult = False\n",
    "\n",
    "\t\n",
    "\tfor x in list1:\n",
    "\n",
    "\t\t\n",
    "\t\tfor y in list2:\n",
    "\n",
    "\t\t\t\n",
    "\t\t\tif x == y:\n",
    "\t\t\t\tresult = True\n",
    "\t\t\t\treturn result \n",
    "\t\t\t\t\n",
    "\treturn result\n",
    "\t\n",
    "\n",
    "a = [1, 2, 3, 4, 5]\n",
    "b = [5, 6, 7, 8, 9]\n",
    "print(common_data(a, b))\n",
    "\n",
    "a = [1, 2, 3, 4, 5]\n",
    "b = [6, 7, 8, 9]\n",
    "print(common_data(a, b))\n"
   ]
  },
  {
   "cell_type": "code",
   "execution_count": 19,
   "id": "53537069-00b6-4313-916c-7e009bba7879",
   "metadata": {},
   "outputs": [
    {
     "name": "stdout",
     "output_type": "stream",
     "text": [
      "[]\n"
     ]
    }
   ],
   "source": [
    "list1 = [1, 2, 3, 4, 5]\n",
    "list1.clear()\n",
    "print(list1)"
   ]
  },
  {
   "cell_type": "code",
   "execution_count": 20,
   "id": "4620e10e-d8eb-40b1-b32a-eee88df1f40f",
   "metadata": {},
   "outputs": [
    {
     "name": "stdout",
     "output_type": "stream",
     "text": [
      "[0, 2, 0, 4, 0]\n"
     ]
    }
   ],
   "source": [
    "def replace_negative_with_zero(list1):\n",
    "  for i in range(len(list1)):\n",
    "    if list1[i] < 0:\n",
    "      list1[i] = 0\n",
    "\n",
    "list1 = [-1, 2, -3, 4, -5]\n",
    "replace_negative_with_zero(list1)\n",
    "print(list1)"
   ]
  },
  {
   "cell_type": "code",
   "execution_count": 21,
   "id": "f6e05eac-33d0-4eb5-a883-cfc057cbb0ad",
   "metadata": {},
   "outputs": [
    {
     "name": "stdout",
     "output_type": "stream",
     "text": [
      "['This', 'is', 'a', 'sentence']\n"
     ]
    }
   ],
   "source": [
    "string = \"This is a sentence\"\n",
    "words = string.split()\n",
    "\n",
    "print(words)"
   ]
  },
  {
   "cell_type": "code",
   "execution_count": 22,
   "id": "15d95d35-e6d2-4e26-83d1-f4fdcec47666",
   "metadata": {},
   "outputs": [
    {
     "name": "stdout",
     "output_type": "stream",
     "text": [
      "Hello World!\n"
     ]
    }
   ],
   "source": [
    "list_of_words = [\"Hello\", \"World!\"]\n",
    "string = \" \".join(list_of_words)\n",
    "print(string)"
   ]
  },
  {
   "cell_type": "code",
   "execution_count": 5,
   "id": "e8c0e6e9-ae9b-4a46-a10a-45d4363b0a3d",
   "metadata": {},
   "outputs": [
    {
     "name": "stdout",
     "output_type": "stream",
     "text": [
      "[1, 2, 4, 8, 16]\n"
     ]
    }
   ],
   "source": [
    "def powers_of_2(n):\n",
    "    return [2**i for i in range(n)]\n",
    "\n",
    "\n",
    "n = 5\n",
    "powers = powers_of_2(n)\n",
    "print(powers)\n"
   ]
  },
  {
   "cell_type": "code",
   "execution_count": 7,
   "id": "38b5dc83-a38d-490d-af73-bf78de48670e",
   "metadata": {},
   "outputs": [
    {
     "name": "stdout",
     "output_type": "stream",
     "text": [
      "the original list:['data science', 'big data', 'data analytics', 'web development']\n",
      " the maximum length string is:web development\n"
     ]
    }
   ],
   "source": [
    "test_list = [\"data science\" , \"big data\" , \"data analytics\" , \"web development\"]\n",
    "print(\"the original list:\" + str(test_list))\n",
    "\n",
    "max_len = -1\n",
    "for element in test_list:\n",
    "    if len(element) > max_len:\n",
    "        max_len = len(element)\n",
    "        result = element\n",
    "        \n",
    "print(f\" the maximum length string is:\" + result)        \n",
    "    "
   ]
  },
  {
   "cell_type": "code",
   "execution_count": 2,
   "id": "4535e836-5bb4-4e45-ace4-17e80c8bcbd4",
   "metadata": {},
   "outputs": [
    {
     "name": "stdout",
     "output_type": "stream",
     "text": [
      "the shortest string in the given list is  big data\n"
     ]
    }
   ],
   "source": [
    "list = [\"data science\" , \"big data\" , \"data analytics\" , \"web development\"]\n",
    "shortest_string = min(list , key = len)\n",
    "print(\"the shortest string in the given list is \" , shortest_string)"
   ]
  },
  {
   "cell_type": "code",
   "execution_count": 10,
   "id": "fbff0d15-c625-4b9b-b589-2c1f03dedbc5",
   "metadata": {},
   "outputs": [
    {
     "name": "stdout",
     "output_type": "stream",
     "text": [
      "[1, 3, 6, 10, 15, 21, 28, 36, 45, 55]\n"
     ]
    }
   ],
   "source": [
    "def triangular_numbers(n):\n",
    "    return [int(i*(i+1)/2) for i in range(1 , n+1)]\n",
    "\n",
    "print(triangular_numbers(10))"
   ]
  },
  {
   "cell_type": "code",
   "execution_count": 11,
   "id": "71063020-20f9-475d-badd-fc6979a59e7b",
   "metadata": {},
   "outputs": [
    {
     "name": "stdout",
     "output_type": "stream",
     "text": [
      "True\n",
      "True\n"
     ]
    }
   ],
   "source": [
    "def is_subsequence(list1, list2):\n",
    "    iter_list2 = iter(list2)\n",
    "    return all(any(i == j for j in iter_list2) for i in list1)\n",
    "\n",
    "# Test the function\n",
    "print(is_subsequence([1, 3], [1, 2, 3, 4]))  # Outputs: True\n",
    "print(is_subsequence([1, 4], [1, 2, 3, 4]))  # Outputs: False\n"
   ]
  },
  {
   "cell_type": "code",
   "execution_count": 13,
   "id": "d6707a8c-e4f8-490f-bc9b-0ade97741d2c",
   "metadata": {},
   "outputs": [
    {
     "name": "stdout",
     "output_type": "stream",
     "text": [
      "True\n",
      "True\n"
     ]
    }
   ],
   "source": [
    "def is_subsequence(list1 , list2):\n",
    "    iter_list2 = iter(list2)\n",
    "    return all(any(i == j for j in  iter_list2) for i in list1)\n",
    "\n",
    "print(is_subsequence([1, 3], [1, 2, 3, 4])) \n",
    "print(is_subsequence([1, 4], [1, 2, 3, 4]))\n",
    "\n"
   ]
  },
  {
   "cell_type": "code",
   "execution_count": 17,
   "id": "d9d401c9-7f19-431c-8552-ec6288dda9b8",
   "metadata": {},
   "outputs": [
    {
     "name": "stdout",
     "output_type": "stream",
     "text": [
      "['a', 'd', 'c', 'b', 'e']\n"
     ]
    }
   ],
   "source": [
    "def swap_elements(lst , index1 , index2):\n",
    "    lst[index1] , lst[index2] = lst[index2] , lst[index1]\n",
    "    return lst\n",
    "\n",
    "print(swap_elements(['a' , 'b' , 'c' , 'd' , 'e'],1,3))"
   ]
  },
  {
   "cell_type": "code",
   "execution_count": 18,
   "id": "9c0f10a3-ff61-4ef7-98b4-c5756b5faaf1",
   "metadata": {},
   "outputs": [
    {
     "name": "stdout",
     "output_type": "stream",
     "text": [
      "(1, 2, 3, 4, 5)\n"
     ]
    }
   ],
   "source": [
    "t = (1,2,3,4,5)\n",
    "print(t)"
   ]
  },
  {
   "cell_type": "code",
   "execution_count": 23,
   "id": "95cd7a73-2021-48f6-a48e-5debb28c34f6",
   "metadata": {},
   "outputs": [
    {
     "name": "stdout",
     "output_type": "stream",
     "text": [
      "3\n"
     ]
    }
   ],
   "source": [
    "t = (1,2,3,4,5)\n",
    "third_element = t[2]\n",
    "print(third_element)"
   ]
  },
  {
   "cell_type": "code",
   "execution_count": 26,
   "id": "8cbfd257-fa02-4593-becd-05b281f4ee54",
   "metadata": {},
   "outputs": [
    {
     "name": "stdout",
     "output_type": "stream",
     "text": [
      "5\n"
     ]
    }
   ],
   "source": [
    "t = (1,2,3,4,5)\n",
    "length = 0\n",
    "for i in t:\n",
    "    length += 1\n",
    "    \n",
    "print(length)    "
   ]
  },
  {
   "cell_type": "code",
   "execution_count": 28,
   "id": "41ae04db-11d5-4779-9059-3c4ee7b5954e",
   "metadata": {},
   "outputs": [
    {
     "name": "stdout",
     "output_type": "stream",
     "text": [
      "1\n"
     ]
    }
   ],
   "source": [
    "t = (1,2,3,4,5)\n",
    "find_occurence = t.count(3)\n",
    "print(find_occurence)"
   ]
  },
  {
   "cell_type": "code",
   "execution_count": 33,
   "id": "60b681e9-3de4-49b3-a514-f2ec5143c0cb",
   "metadata": {},
   "outputs": [
    {
     "name": "stdout",
     "output_type": "stream",
     "text": [
      "2\n"
     ]
    }
   ],
   "source": [
    "t = (1,2,3,4,5,3,2,4)\n",
    "element = 3\n",
    "count = t.count(element)\n",
    "print(count)"
   ]
  },
  {
   "cell_type": "code",
   "execution_count": 35,
   "id": "2b821945-0db9-4916-acf9-63516b0f0b46",
   "metadata": {},
   "outputs": [
    {
     "name": "stdout",
     "output_type": "stream",
     "text": [
      "4\n"
     ]
    }
   ],
   "source": [
    "t = (1,2,3,4,5,6,7,8,9)\n",
    "element = 5\n",
    "first_occurence = t.index(element)\n",
    "print(first_occurence)"
   ]
  },
  {
   "cell_type": "code",
   "execution_count": 39,
   "id": "f9642889-9849-47be-8555-db9e58552834",
   "metadata": {},
   "outputs": [
    {
     "name": "stdout",
     "output_type": "stream",
     "text": [
      "True\n"
     ]
    }
   ],
   "source": [
    "t = (1,2,3,4,5,6,7,8,9)\n",
    "element = 2\n",
    "exist_element = element in t\n",
    "print(exist_element)"
   ]
  },
  {
   "cell_type": "code",
   "execution_count": 1,
   "id": "f5eaa43d-4adb-4572-9caa-e2e92e1726e6",
   "metadata": {},
   "outputs": [
    {
     "name": "stdout",
     "output_type": "stream",
     "text": [
      "[1, 2, 3, 4, 5]\n"
     ]
    }
   ],
   "source": [
    "my_tuple = (1, 2, 3, 4, 5)\n",
    "my_list = list(my_tuple)\n",
    "print(my_list)\n"
   ]
  },
  {
   "cell_type": "code",
   "execution_count": 2,
   "id": "7f181472-8e9e-4780-baa5-db0561862a68",
   "metadata": {},
   "outputs": [
    {
     "name": "stdout",
     "output_type": "stream",
     "text": [
      "(1, 2, 3, 4, 5, 6, 7, 8, 9)\n"
     ]
    }
   ],
   "source": [
    "list = [1,2,3,4,5,6,7,8,9]\n",
    "my_tuple = tuple(list)\n",
    "print(my_tuple)"
   ]
  },
  {
   "cell_type": "code",
   "execution_count": 6,
   "id": "4c9f5384-1232-4c93-bd23-8a887d9844aa",
   "metadata": {},
   "outputs": [
    {
     "name": "stdout",
     "output_type": "stream",
     "text": [
      "a : 1\n",
      "b : 2\n",
      "c : 3\n"
     ]
    }
   ],
   "source": [
    "my_tuple = (1,2,3)\n",
    "a,b,c = my_tuple\n",
    "print('a :' , a)\n",
    "print('b :' , b)\n",
    "print('c :' , c)"
   ]
  },
  {
   "cell_type": "code",
   "execution_count": 11,
   "id": "1b70074d-92ca-489b-9ca8-a4869a05a773",
   "metadata": {},
   "outputs": [
    {
     "name": "stdout",
     "output_type": "stream",
     "text": [
      "(2, 4, 6, 8, 10)\n"
     ]
    }
   ],
   "source": [
    "even_number_tuple = tuple(i for i in range(2,11,2))\n",
    "print(even_number_tuple)"
   ]
  },
  {
   "cell_type": "code",
   "execution_count": 15,
   "id": "2dffed9b-1f2f-48aa-a104-c694b3484451",
   "metadata": {},
   "outputs": [
    {
     "name": "stdout",
     "output_type": "stream",
     "text": [
      "(1, 3, 5, 7, 9)\n"
     ]
    }
   ],
   "source": [
    "odd_number_tuple = tuple(i for i in range(1,11,2))\n",
    "print(odd_number_tuple)"
   ]
  },
  {
   "cell_type": "code",
   "execution_count": 17,
   "id": "b79e85b7-26f2-420e-b3c5-5c1969328b25",
   "metadata": {},
   "outputs": [
    {
     "name": "stdout",
     "output_type": "stream",
     "text": [
      "(1, 2, 3, 4, 5, 6, 7, 8, 9, 10)\n"
     ]
    }
   ],
   "source": [
    "tuple1 = (1,2,3,4,5)\n",
    "tuple2 = (6,7,8,9,10)\n",
    "concatenated_tuple = tuple1 + tuple2\n",
    "print(concatenated_tuple)"
   ]
  },
  {
   "cell_type": "code",
   "execution_count": 18,
   "id": "399509a4-7c3f-441a-a514-30e55fe0d3db",
   "metadata": {},
   "outputs": [
    {
     "name": "stdout",
     "output_type": "stream",
     "text": [
      "(1, 2, 3, 4, 5, 1, 2, 3, 4, 5, 1, 2, 3, 4, 5)\n"
     ]
    }
   ],
   "source": [
    "tuple = (1,2,3,4,5)\n",
    "repeat_tuple = tuple*3\n",
    "print(repeat_tuple)"
   ]
  },
  {
   "cell_type": "code",
   "execution_count": 23,
   "id": "950cbcef-01df-4404-9a49-91a4542fcb4f",
   "metadata": {},
   "outputs": [
    {
     "name": "stdout",
     "output_type": "stream",
     "text": [
      "tuple is empty\n"
     ]
    }
   ],
   "source": [
    "my_tuple = ()\n",
    "if len(my_tuple) == 0:\n",
    "    print(\"tuple is empty\")\n",
    "else:\n",
    "    print(\"tuple is not empty\")"
   ]
  },
  {
   "cell_type": "code",
   "execution_count": 25,
   "id": "4e913dc2-bd27-4c53-aa82-7b1184bccd7e",
   "metadata": {},
   "outputs": [
    {
     "name": "stdout",
     "output_type": "stream",
     "text": [
      "((1, 2, 3), (4, 5, 6), (7, 8, 9))\n"
     ]
    }
   ],
   "source": [
    "nested_tuple = ((1,2,3) , (4,5,6) , (7,8,9))\n",
    "print(nested_tuple)"
   ]
  },
  {
   "cell_type": "code",
   "execution_count": 28,
   "id": "034aa73d-74a5-46c3-b1ea-75e7ef6a4838",
   "metadata": {},
   "outputs": [
    {
     "name": "stdout",
     "output_type": "stream",
     "text": [
      "1\n"
     ]
    }
   ],
   "source": [
    "nested_tuple = ((1,2,3) , (4,5,6) , (7,8,9))\n",
    "first_nested_element = nested_tuple[0]\n",
    "first_element = first_nested_element[0]\n",
    "print(first_element)"
   ]
  },
  {
   "cell_type": "code",
   "execution_count": 35,
   "id": "812bf93e-0f1d-4e8c-a5ae-8b4ab8fc2e76",
   "metadata": {},
   "outputs": [
    {
     "name": "stdout",
     "output_type": "stream",
     "text": [
      "(1,)\n"
     ]
    }
   ],
   "source": [
    "my_tuple = (1,)\n",
    "print(my_tuple)\n"
   ]
  },
  {
   "cell_type": "code",
   "execution_count": 37,
   "id": "bfe67e8a-1386-4db2-bfe4-02f36da0d9c5",
   "metadata": {},
   "outputs": [
    {
     "name": "stdout",
     "output_type": "stream",
     "text": [
      "tuples are equal\n"
     ]
    }
   ],
   "source": [
    "tuple1 = (1,2,4)\n",
    "tuple2 = (1,2,4)\n",
    "\n",
    "if tuple1 == tuple2:\n",
    "    print(\"tuples are equal\")\n",
    "elif tuple1 < tuple2:\n",
    "    print(\"tuple1 is smaller than tuple2\")\n",
    "else:\n",
    "    print(\"tuple1 is greater than tuple2\")"
   ]
  },
  {
   "cell_type": "code",
   "execution_count": 44,
   "id": "8bad0569-fff6-4ac2-a3e6-cf96e773a25c",
   "metadata": {},
   "outputs": [
    {
     "name": "stdout",
     "output_type": "stream",
     "text": [
      "Original tuple: (1, 2, 3, 4, 5)\n"
     ]
    }
   ],
   "source": [
    "my_tuple = (1, 2, 3, 4, 5)\n",
    "print(\"Original tuple:\", my_tuple)\n",
    "\n",
    "\n",
    "del my_tuple\n",
    "\n",
    "\n"
   ]
  },
  {
   "cell_type": "code",
   "execution_count": 48,
   "id": "08791ba0-26d7-41f9-82b4-25e25d62c606",
   "metadata": {},
   "outputs": [
    {
     "name": "stdout",
     "output_type": "stream",
     "text": [
      "(2, 3)\n"
     ]
    }
   ],
   "source": [
    "my_tuple = (1, 2, 3, 4, 5)\n",
    "sliced_tuple = my_tuple[1:3]\n",
    "print(sliced_tuple)"
   ]
  },
  {
   "cell_type": "code",
   "execution_count": 51,
   "id": "b38c2d25-2a08-450e-9590-0dce82e7ac87",
   "metadata": {},
   "outputs": [
    {
     "name": "stdout",
     "output_type": "stream",
     "text": [
      "10\n"
     ]
    }
   ],
   "source": [
    "my_tuple = (1,2,3,4,5,6,7,8,9,10)\n",
    "maximum_value = max(my_tuple)\n",
    "print(maximum_value)"
   ]
  },
  {
   "cell_type": "code",
   "execution_count": 52,
   "id": "4424979c-ea6e-4940-ba5b-e9306902ecd0",
   "metadata": {},
   "outputs": [
    {
     "name": "stdout",
     "output_type": "stream",
     "text": [
      "1\n"
     ]
    }
   ],
   "source": [
    "my_tuple = (1,2,3,4,5,6,7,8,9,10)\n",
    "minimum_value = min(my_tuple)\n",
    "print(minimum_value)"
   ]
  },
  {
   "cell_type": "code",
   "execution_count": 53,
   "id": "1699ecbf-0f85-40fc-b723-1d714bec908a",
   "metadata": {},
   "outputs": [
    {
     "name": "stdout",
     "output_type": "stream",
     "text": [
      "('f', 'u', 'l', 'l', ' ', 's', 't', 'a', 'c', 'k', ' ', 'd', 'a', 't', 'a', ' ', 's', 'c', 'i', 'e', 'n', 'c', 'e')\n"
     ]
    }
   ],
   "source": [
    "string = \"full stack data science\"\n",
    "characters = tuple(string)\n",
    "print(characters)"
   ]
  },
  {
   "cell_type": "code",
   "execution_count": 54,
   "id": "ad1c9f3a-7ec3-43b3-be2d-0e45a9f6a524",
   "metadata": {},
   "outputs": [
    {
     "name": "stdout",
     "output_type": "stream",
     "text": [
      "(1, 2, 3, 4, 5, 6, 7, 8, 9, 10)\n"
     ]
    }
   ],
   "source": [
    "my_tuple = (1,2,3,4,5,6,7,8,9,10)\n",
    "string = str(my_tuple)\n",
    "print(string)"
   ]
  },
  {
   "cell_type": "code",
   "execution_count": 6,
   "id": "793d8654-8468-4b4a-b457-9524a48b571a",
   "metadata": {},
   "outputs": [
    {
     "name": "stdout",
     "output_type": "stream",
     "text": [
      "(1, 2, 3, 4, 5, 6, 7, 8, 9, 10)\n"
     ]
    }
   ],
   "source": [
    "t1 = (1,2,3,4,5)\n",
    "t2 = (6,7,8,9,10)\n",
    "merged_tuple = t1+t2\n",
    "print(merged_tuple)"
   ]
  },
  {
   "cell_type": "code",
   "execution_count": 1,
   "id": "2e7ae61a-464f-4777-b85b-7ec86a68e0ee",
   "metadata": {},
   "outputs": [
    {
     "name": "stdout",
     "output_type": "stream",
     "text": [
      "(1, 2, 3, 4, 5, 6)\n"
     ]
    }
   ],
   "source": [
    "def flatten_tuple(nested_tuple):\n",
    "    flattened_list = []\n",
    "    for item in nested_tuple:\n",
    "        if isinstance(item, tuple):\n",
    "            flattened_list.extend(flatten_tuple(item))\n",
    "        else:\n",
    "            flattened_list.append(item)\n",
    "    return tuple(flattened_list)\n",
    "\n",
    "\n",
    "nested_tuple = ((1, 2), (3, (4, 5)), 6)\n",
    "flattened_tuple = flatten_tuple(nested_tuple)\n",
    "print(flattened_tuple)\n"
   ]
  },
  {
   "cell_type": "code",
   "execution_count": 4,
   "id": "58f897a6-0359-4502-b0aa-6ba3206189ff",
   "metadata": {},
   "outputs": [
    {
     "name": "stdout",
     "output_type": "stream",
     "text": [
      "(2, 3, 5, 7, 11)\n"
     ]
    }
   ],
   "source": [
    "def is_prime(n):\n",
    "    if n <= 1:\n",
    "        return False\n",
    "    if n == 2:\n",
    "        return True\n",
    "    if n % 2 == 0:\n",
    "        return False\n",
    "    for i in range(3 , int(n**0.5) + 1 , 2):\n",
    "        if n % i ==0:\n",
    "            return False\n",
    "    return True\n",
    "\n",
    "prime_numbers = []\n",
    "num = 2\n",
    "while len(prime_numbers) < 5:\n",
    "    if is_prime(num):\n",
    "        prime_numbers.append(num)\n",
    "    num += 1\n",
    "    \n",
    "prime_tuple = tuple(prime_numbers)\n",
    "print(prime_tuple)\n",
    "    \n",
    "    "
   ]
  },
  {
   "cell_type": "code",
   "execution_count": 8,
   "id": "af9e5c78-a15a-486d-9043-acb8477fd2a7",
   "metadata": {},
   "outputs": [
    {
     "name": "stdout",
     "output_type": "stream",
     "text": [
      "True\n"
     ]
    }
   ],
   "source": [
    "def is_palindrome(tuple):\n",
    "    return tuple == tuple[::-1]\n",
    "tuple = (1,2,3,2,1)\n",
    "print(is_palindrome(tuple))\n"
   ]
  },
  {
   "cell_type": "code",
   "execution_count": 1,
   "id": "f9681bc2-d215-458f-ac94-d05ac5bfebb7",
   "metadata": {},
   "outputs": [
    {
     "name": "stdout",
     "output_type": "stream",
     "text": [
      "(1, 4, 9, 16, 25)\n"
     ]
    }
   ],
   "source": [
    "# Using list comprehension to generate squares of numbers from 1 to 5\n",
    "squares = tuple(x**2 for x in range(1, 6))\n",
    "\n",
    "print(squares)\n"
   ]
  },
  {
   "cell_type": "code",
   "execution_count": 2,
   "id": "00bfb279-3fc8-47be-8475-553f4d5716b3",
   "metadata": {},
   "outputs": [
    {
     "name": "stdout",
     "output_type": "stream",
     "text": [
      "2\n",
      "4\n",
      "6\n",
      "8\n",
      "10\n"
     ]
    }
   ],
   "source": [
    "tuple = (1,2,3,4,5,6,7,8,9,10)\n",
    "for i in tuple:\n",
    "    if i % 2 == 0:\n",
    "        print(i)"
   ]
  },
  {
   "cell_type": "code",
   "execution_count": 3,
   "id": "c57d2574-e16b-4adb-88da-f3855e134e82",
   "metadata": {},
   "outputs": [
    {
     "data": {
      "text/plain": [
       "[2, 4, 6, 8, 10, 12, 14, 16, 18, 20]"
      ]
     },
     "execution_count": 3,
     "metadata": {},
     "output_type": "execute_result"
    }
   ],
   "source": [
    "tuple = (1,2,3,4,5,6,7,8,9,10)\n",
    "list(map(lambda a : a*2 , tuple))"
   ]
  },
  {
   "cell_type": "code",
   "execution_count": 2,
   "id": "de41c1e7-4f85-4593-ab32-a4c8b92c9c03",
   "metadata": {},
   "outputs": [
    {
     "name": "stdout",
     "output_type": "stream",
     "text": [
      "(10, 3, 8, 6, 3)\n"
     ]
    }
   ],
   "source": [
    "import random\n",
    "random_numbers = tuple(random.randint(1,10) for _ in range (5))\n",
    "print(random_numbers)"
   ]
  },
  {
   "cell_type": "code",
   "execution_count": 6,
   "id": "199b848b-f109-45e6-a71c-162c8af07dee",
   "metadata": {},
   "outputs": [
    {
     "name": "stdout",
     "output_type": "stream",
     "text": [
      "True\n"
     ]
    }
   ],
   "source": [
    "def is_sorted(tup):\n",
    "    return tup == tuple(sorted(tup))\n",
    "\n",
    "tup = (1,2,3,4,5)\n",
    "print(is_sorted(tup))"
   ]
  },
  {
   "cell_type": "code",
   "execution_count": 1,
   "id": "e0e53224-f6bf-4138-8cbb-c117ef59d235",
   "metadata": {},
   "outputs": [
    {
     "name": "stdout",
     "output_type": "stream",
     "text": [
      "(3, 4, 5, 1, 2)\n"
     ]
    }
   ],
   "source": [
    "def rotate_tuple_left(tup,n):\n",
    "    n %= len(tup)\n",
    "    return tup[n:] + tup[:n] \n",
    "\n",
    "my_tuple = (1,2,3,4,5)\n",
    "n = 2\n",
    "rotated_tuple = rotate_tuple_left(my_tuple, n)\n",
    "print(rotated_tuple)"
   ]
  },
  {
   "cell_type": "code",
   "execution_count": 3,
   "id": "e271f485-c0fe-4f2d-b882-c1cb1fa7416b",
   "metadata": {},
   "outputs": [
    {
     "name": "stdout",
     "output_type": "stream",
     "text": [
      "(4, 5, 1, 2, 3)\n"
     ]
    }
   ],
   "source": [
    "def rotate_tuple_right(tup,n):\n",
    "    n %= len(tup)\n",
    "    return tup[-n:] + tup[:-n] \n",
    "\n",
    "my_tuple = (1,2,3,4,5)\n",
    "n = 2\n",
    "rotated_tuple = rotate_tuple_right(my_tuple, n)\n",
    "print(rotated_tuple)"
   ]
  },
  {
   "cell_type": "code",
   "execution_count": null,
   "id": "f1d233d0-e512-4e4e-bb04-e8df3971bdac",
   "metadata": {},
   "outputs": [],
   "source": [
    "def fibonacci(n):\n",
    "    fib_sequence = [0, 1]  \n",
    "    while len(fib_sequence) < n:\n",
    "        next_fib = fib_sequence[-1] + fib_sequence[-2]\n",
    "        fib_sequence.append(next_fib)\n",
    "    return tuple(fib_sequence)\n",
    "\n",
    "\n",
    "first_5_fibonacci = fibonacci(5)\n",
    "print(first_5_fibonacci)  \n"
   ]
  },
  {
   "cell_type": "code",
   "execution_count": 8,
   "id": "acfdebc4-2c97-4cfd-81c9-c288a076f9a3",
   "metadata": {},
   "outputs": [
    {
     "name": "stdout",
     "output_type": "stream",
     "text": [
      "(0, 1, 1, 2, 3)\n"
     ]
    }
   ],
   "source": [
    "def fibonacci(n):\n",
    "    fib_sequence = [0,1]\n",
    "    while len(fib_sequence) < n:\n",
    "        next_fib = fib_sequence[-1] + fib_sequence[-2]\n",
    "        fib_sequence.append(next_fib)\n",
    "    return tuple(fib_sequence) \n",
    "\n",
    "first_5_fibonacci = fibonacci(5)\n",
    "print(first_5_fibonacci)"
   ]
  },
  {
   "cell_type": "code",
   "execution_count": 9,
   "id": "7f9ff14d-5f3d-405c-a19d-fbc975f83408",
   "metadata": {},
   "outputs": [
    {
     "name": "stdin",
     "output_type": "stream",
     "text": [
      "enter elements separated by space:  1 2 3 4 5 6 7 \n"
     ]
    },
    {
     "name": "stdout",
     "output_type": "stream",
     "text": [
      "('1', '2', '3', '4', '5', '6', '7')\n"
     ]
    }
   ],
   "source": [
    "user_input = input(\"enter elements separated by space: \").split()\n",
    "user_tuple = tuple(user_input)\n",
    "print(user_tuple)"
   ]
  },
  {
   "cell_type": "code",
   "execution_count": 3,
   "id": "ab44099d-2326-48d0-857f-9904423bba13",
   "metadata": {},
   "outputs": [
    {
     "name": "stdout",
     "output_type": "stream",
     "text": [
      "(1, 4, 3, 2, 5)\n"
     ]
    }
   ],
   "source": [
    "def swap_elements(tup , i , j):\n",
    "    temp_list = list(tup)\n",
    "    temp_list[i] , temp_list[j] = temp_list[j] , temp_list[i]\n",
    "    return tuple(temp_list)\n",
    "\n",
    "my_tuple = (1,2,3,4,5)\n",
    "i = 1\n",
    "j = 3\n",
    "swapped_tuple = swap_elements(my_tuple,i,j)\n",
    "print(swapped_tuple)\n",
    "    "
   ]
  },
  {
   "cell_type": "code",
   "execution_count": 4,
   "id": "ecea95a9-68cc-4a9e-96f5-4a256cb5de04",
   "metadata": {},
   "outputs": [
    {
     "name": "stdout",
     "output_type": "stream",
     "text": [
      "(8, 7, 6, 5, 4, 3, 2, 1)\n"
     ]
    }
   ],
   "source": [
    "my_tuple = (1,2,3,4,5,6,7,8)\n",
    "reversed_tuple = my_tuple[::-1]\n",
    "print(reversed_tuple)"
   ]
  },
  {
   "cell_type": "code",
   "execution_count": 9,
   "id": "bd66c411-87e2-4351-b859-bce16be63fd8",
   "metadata": {},
   "outputs": [
    {
     "name": "stdout",
     "output_type": "stream",
     "text": [
      "(1, 2, 4, 8, 16)\n"
     ]
    }
   ],
   "source": [
    "def powers_of_2(n):\n",
    "    return tuple(2**i for i in range(n))\n",
    "\n",
    "n = 5\n",
    "power_tuple = powers_of_2(n)\n",
    "print(power_tuple)"
   ]
  },
  {
   "cell_type": "code",
   "execution_count": 2,
   "id": "b4ced62d-db3e-4764-9b27-37a048befd1a",
   "metadata": {},
   "outputs": [
    {
     "name": "stdout",
     "output_type": "stream",
     "text": [
      "longest tuple strawberry\n"
     ]
    }
   ],
   "source": [
    "def longest_string_in_tuple(tup):\n",
    "    longest = \"\"\n",
    "    for string in tup:\n",
    "        if len(string) > len(longest):\n",
    "            longest = string\n",
    "            \n",
    "    return longest \n",
    "\n",
    "my_tuple = (\"apple\", \"banana\", \"orange\", \"kiwi\", \"strawberry\") \n",
    "longest_tuple = longest_string_in_tuple(my_tuple)\n",
    "print(\"longest tuple\",longest_tuple)\n",
    "        "
   ]
  },
  {
   "cell_type": "code",
   "execution_count": 3,
   "id": "6d5d7e55-d0e3-4dd9-b3eb-1236f87188f6",
   "metadata": {},
   "outputs": [
    {
     "name": "stdout",
     "output_type": "stream",
     "text": [
      "Shortest string: kiwi\n"
     ]
    }
   ],
   "source": [
    "def shortest_string_in_tuple(tup):\n",
    "    shortest = None  \n",
    "    \n",
    "    for string in tup:\n",
    "        if shortest is None or len(string) < len(shortest):\n",
    "            shortest = string\n",
    "    \n",
    "    return shortest\n",
    "\n",
    "\n",
    "my_tuple = (\"apple\", \"banana\", \"orange\", \"kiwi\", \"strawberry\")\n",
    "shortest = shortest_string_in_tuple(my_tuple)\n",
    "print(\"Shortest string:\", shortest)  \n"
   ]
  },
  {
   "cell_type": "code",
   "execution_count": 4,
   "id": "da52a1b7-140e-49c6-b07e-fe26dd4683fe",
   "metadata": {},
   "outputs": [
    {
     "name": "stdout",
     "output_type": "stream",
     "text": [
      "(1, 3, 6, 10, 15)\n"
     ]
    }
   ],
   "source": [
    "def triangular_numbers(n):\n",
    "    return tuple((i * (i + 1)) // 2 for i in range(1, n + 1))\n",
    "\n",
    "\n",
    "n = 5\n",
    "triangular_tuple = triangular_numbers(n)\n",
    "print(triangular_tuple)  \n"
   ]
  },
  {
   "cell_type": "code",
   "execution_count": 5,
   "id": "daf9c410-3a24-4ec2-823e-d2322bf9a756",
   "metadata": {},
   "outputs": [
    {
     "name": "stdout",
     "output_type": "stream",
     "text": [
      "Contains subsequence: True\n"
     ]
    }
   ],
   "source": [
    "def contains_subsequence(main_tuple, sub_tuple):\n",
    "    m = len(main_tuple)\n",
    "    n = len(sub_tuple)\n",
    "\n",
    "    for i in range(m - n + 1):\n",
    "        if main_tuple[i:i + n] == sub_tuple:\n",
    "            return True\n",
    "\n",
    "    return False\n",
    "\n",
    "\n",
    "main_tuple = (1, 2, 3, 4, 5, 6)\n",
    "sub_tuple = (3, 4, 5)\n",
    "result = contains_subsequence(main_tuple, sub_tuple)\n",
    "print(\"Contains subsequence:\", result)  \n"
   ]
  },
  {
   "cell_type": "code",
   "execution_count": 7,
   "id": "68e29ea2-b87b-4a10-90dd-560a79cb782d",
   "metadata": {},
   "outputs": [
    {
     "name": "stdout",
     "output_type": "stream",
     "text": [
      "(1, 0, 1, 0, 1, 0, 1)\n"
     ]
    }
   ],
   "source": [
    "def alternating_ones_zeros(n):\n",
    "    return tuple(1 if i % 2 == 0 else 0 for i in range(n))\n",
    "\n",
    "\n",
    "n = 7\n",
    "alternating_tuple = alternating_ones_zeros(n)\n",
    "print(alternating_tuple)  \n"
   ]
  },
  {
   "cell_type": "code",
   "execution_count": 1,
   "id": "ed2fb6ea-8250-451a-9d34-ee36bb842f62",
   "metadata": {},
   "outputs": [
    {
     "name": "stdout",
     "output_type": "stream",
     "text": [
      "{1, 2, 3, 4, 5}\n"
     ]
    }
   ],
   "source": [
    "my_set = {1,2,3,4,5}\n",
    "print(my_set)"
   ]
  },
  {
   "cell_type": "code",
   "execution_count": 7,
   "id": "4c66869f-e741-4adc-8db0-411c360c59cb",
   "metadata": {},
   "outputs": [
    {
     "name": "stdout",
     "output_type": "stream",
     "text": [
      "{1, 2, 3, 4, 5, 6}\n"
     ]
    }
   ],
   "source": [
    "set = {1,2,3,4,5}\n",
    "set.add(6)\n",
    "print(set)"
   ]
  },
  {
   "cell_type": "code",
   "execution_count": 9,
   "id": "0fbb3f63-d2dd-4894-8cee-9c7d6dcc8ed5",
   "metadata": {},
   "outputs": [
    {
     "name": "stdout",
     "output_type": "stream",
     "text": [
      "{2, 3, 4, 5, 6}\n"
     ]
    }
   ],
   "source": [
    "set = {1,2,3,4,5,6}\n",
    "set.pop()\n",
    "print(set)"
   ]
  },
  {
   "cell_type": "code",
   "execution_count": 13,
   "id": "03bd1dc6-6df4-4ba4-afc4-b9c364e06487",
   "metadata": {},
   "outputs": [
    {
     "name": "stdout",
     "output_type": "stream",
     "text": [
      "yes\n"
     ]
    }
   ],
   "source": [
    "set = {1,2,3,4,5,6}\n",
    "if 3 in set:\n",
    "    print('yes')\n",
    "else:\n",
    "    print('no')"
   ]
  },
  {
   "cell_type": "code",
   "execution_count": 15,
   "id": "67f9afb6-3ecd-45ba-899b-eb0a064e9fd0",
   "metadata": {},
   "outputs": [
    {
     "name": "stdout",
     "output_type": "stream",
     "text": [
      "7\n"
     ]
    }
   ],
   "source": [
    "def find_len_set(set):\n",
    "    return sum(1 for int in set)\n",
    "\n",
    "set = {1,2,3,4,5,6,7}\n",
    "print(find_len_set(set))"
   ]
  },
  {
   "cell_type": "code",
   "execution_count": 17,
   "id": "d2d55c60-e528-4d9c-a83b-39824e542604",
   "metadata": {},
   "outputs": [
    {
     "name": "stdout",
     "output_type": "stream",
     "text": [
      "set()\n"
     ]
    }
   ],
   "source": [
    "set = {1,2,3,4,5,6}\n",
    "set.clear()\n",
    "print(set)"
   ]
  },
  {
   "cell_type": "code",
   "execution_count": 21,
   "id": "010fd4b5-1d30-49e5-9089-f73b6874bc8c",
   "metadata": {},
   "outputs": [
    {
     "name": "stdout",
     "output_type": "stream",
     "text": [
      "{2, 4, 6, 8, 10}\n"
     ]
    }
   ],
   "source": [
    "even_numbers = {i for i in range(1,11)  if i%2 ==0}\n",
    "print(even_numbers)"
   ]
  },
  {
   "cell_type": "code",
   "execution_count": 22,
   "id": "ab4e375d-6621-4bd6-aceb-139f735960cc",
   "metadata": {},
   "outputs": [
    {
     "name": "stdout",
     "output_type": "stream",
     "text": [
      "{1, 3, 5, 7, 9}\n"
     ]
    }
   ],
   "source": [
    "odd_numbers = {i for i in range(1,11) if i%2 !=0}\n",
    "print(odd_numbers)"
   ]
  },
  {
   "cell_type": "code",
   "execution_count": 23,
   "id": "8d9fbc82-d168-4cd6-8a84-09db471791a5",
   "metadata": {},
   "outputs": [
    {
     "name": "stdout",
     "output_type": "stream",
     "text": [
      "{1, 2, 3, 4, 5, 6, 7, 8}\n"
     ]
    }
   ],
   "source": [
    "set1 = {1,2,3,4,5}\n",
    "set2 = {4,5,6,7,8}\n",
    "union_set = set1.union(set2)\n",
    "print(union_set)"
   ]
  },
  {
   "cell_type": "code",
   "execution_count": 24,
   "id": "a0c14b5a-69dc-4dd3-9c94-eb0014759433",
   "metadata": {},
   "outputs": [
    {
     "name": "stdout",
     "output_type": "stream",
     "text": [
      "{4, 5}\n"
     ]
    }
   ],
   "source": [
    "set1 = {1,2,3,4,5}\n",
    "set2 = {4,5,6,7,8}\n",
    "intersection_set = set1.intersection(set2)\n",
    "print(intersection_set)"
   ]
  },
  {
   "cell_type": "code",
   "execution_count": 25,
   "id": "0ac0b3b0-5787-4f26-a798-da629a441534",
   "metadata": {},
   "outputs": [
    {
     "name": "stdout",
     "output_type": "stream",
     "text": [
      "{1, 2, 3}\n"
     ]
    }
   ],
   "source": [
    "set1 = {1,2,3,4,5}\n",
    "set2 = {4,5,6,7,8}\n",
    "difference_set = set1.difference(set2)\n",
    "print(difference_set)"
   ]
  },
  {
   "cell_type": "code",
   "execution_count": 26,
   "id": "1e4f4c81-8d01-4681-b152-ff485e90c46d",
   "metadata": {},
   "outputs": [
    {
     "name": "stdout",
     "output_type": "stream",
     "text": [
      "False\n"
     ]
    }
   ],
   "source": [
    "set1 = {1,2,3,4,5}\n",
    "set2 = {4,5,6,7,8}\n",
    "subset_set = set1.issubset(set2)\n",
    "print(subset_set)"
   ]
  },
  {
   "cell_type": "code",
   "execution_count": 27,
   "id": "3031f164-6284-44f4-8756-cbef0a72a602",
   "metadata": {},
   "outputs": [
    {
     "name": "stdout",
     "output_type": "stream",
     "text": [
      "False\n"
     ]
    }
   ],
   "source": [
    "set1 = {1,2,3,4,5}\n",
    "set2 = {4,5,6,7,8}\n",
    "is_superset = set1.issuperset(set2)\n",
    "print(is_superset)"
   ]
  },
  {
   "cell_type": "code",
   "execution_count": 1,
   "id": "f2eda16f-7c30-44f9-96ee-9819c70c23f1",
   "metadata": {},
   "outputs": [
    {
     "name": "stdout",
     "output_type": "stream",
     "text": [
      "{1, 2, 3, 4, 5, 6, 7}\n"
     ]
    }
   ],
   "source": [
    "list1 = [1,2,2,3,4,5,6,6,7,7]\n",
    "new_set = set(list1)\n",
    "print(new_set)"
   ]
  },
  {
   "cell_type": "code",
   "execution_count": 2,
   "id": "f9a154cd-e795-490e-8e4d-f2c28650f755",
   "metadata": {},
   "outputs": [
    {
     "name": "stdout",
     "output_type": "stream",
     "text": [
      "[1, 2, 3, 4, 5, 6]\n"
     ]
    }
   ],
   "source": [
    "set2 = {1,2,3,4,5,6}\n",
    "new_list = list(set2)\n",
    "print(new_list)"
   ]
  },
  {
   "cell_type": "code",
   "execution_count": 4,
   "id": "2e49c640-5eaf-4bc3-ae9e-6a08bae65400",
   "metadata": {},
   "outputs": [
    {
     "name": "stdout",
     "output_type": "stream",
     "text": [
      "{2, 3, 4, 5, 6, 7}\n"
     ]
    }
   ],
   "source": [
    "set = {1,2,3,4,5,6,7}\n",
    "new_set = set.pop()\n",
    "print(set)"
   ]
  },
  {
   "cell_type": "code",
   "execution_count": 6,
   "id": "d69a2b21-ef24-4819-b257-d9144aa92ce0",
   "metadata": {},
   "outputs": [
    {
     "name": "stdout",
     "output_type": "stream",
     "text": [
      "{2, 3, 4, 5, 6, 7}\n"
     ]
    }
   ],
   "source": [
    "set = {1,2,3,4,5,6,7}\n",
    "popped_set = set.pop()\n",
    "print(set)"
   ]
  },
  {
   "cell_type": "code",
   "execution_count": 7,
   "id": "c773ee32-f68a-4048-add5-9e74567ce720",
   "metadata": {},
   "outputs": [
    {
     "name": "stdout",
     "output_type": "stream",
     "text": [
      "True\n"
     ]
    }
   ],
   "source": [
    "set1 = {1,2,3}\n",
    "set2 = {4,5,6}\n",
    "are_disjoint = set1.isdisjoint(set2)\n",
    "print(are_disjoint)"
   ]
  },
  {
   "cell_type": "code",
   "execution_count": 8,
   "id": "4e6feca5-a79c-4a24-ba69-f78ddde95b1f",
   "metadata": {},
   "outputs": [
    {
     "name": "stdout",
     "output_type": "stream",
     "text": [
      "{1, 2, 3, 6, 7, 8}\n"
     ]
    }
   ],
   "source": [
    "set1 = {1, 2, 3, 4, 5}\n",
    "set2 = {4, 5, 6, 7, 8}\n",
    "\n",
    "symmetric_difference_set = set1.symmetric_difference(set2)\n",
    "print(symmetric_difference_set)\n"
   ]
  },
  {
   "cell_type": "code",
   "execution_count": 10,
   "id": "512226dc-841f-43c4-96db-f0b880c15634",
   "metadata": {},
   "outputs": [
    {
     "name": "stdout",
     "output_type": "stream",
     "text": [
      "{1, 2, 3, 4, 5, 6}\n"
     ]
    }
   ],
   "source": [
    "set1 = {1,2,3}\n",
    "set2 = {4,5,6}\n",
    "set1.update(set2)\n",
    "print(set1)"
   ]
  },
  {
   "cell_type": "code",
   "execution_count": 11,
   "id": "40b58f6f-da38-48c8-a342-3e23624f9bad",
   "metadata": {},
   "outputs": [
    {
     "name": "stdout",
     "output_type": "stream",
     "text": [
      "{2, 3, 5, 7, 11}\n"
     ]
    }
   ],
   "source": [
    "prime_numbers = {2, 3, 5, 7, 11}\n",
    "print(prime_numbers)\n"
   ]
  },
  {
   "cell_type": "code",
   "execution_count": 1,
   "id": "e88991e4-a78f-4dc4-a02b-e233bf919ecd",
   "metadata": {},
   "outputs": [
    {
     "name": "stdout",
     "output_type": "stream",
     "text": [
      "both the sets are identical\n"
     ]
    }
   ],
   "source": [
    "set1 = {1,2,3}\n",
    "set2 = {3,2,1}\n",
    "if set1 == set2:\n",
    "    print(\"both the sets are identical\")\n",
    "else:\n",
    "    print(\"both the sets are not identical \")"
   ]
  },
  {
   "cell_type": "code",
   "execution_count": 2,
   "id": "8d2aa8a2-41d6-4229-9364-422bf3958420",
   "metadata": {},
   "outputs": [
    {
     "name": "stdout",
     "output_type": "stream",
     "text": [
      "frozenset({1, 2, 3, 4, 5})\n"
     ]
    }
   ],
   "source": [
    "my_set = {1, 2, 3, 4, 5}\n",
    "frozen_set = frozenset(my_set)\n",
    "print(frozen_set)\n"
   ]
  },
  {
   "cell_type": "code",
   "execution_count": 3,
   "id": "c73e8f86-934c-4598-8d19-cd36f1137288",
   "metadata": {},
   "outputs": [
    {
     "name": "stdout",
     "output_type": "stream",
     "text": [
      "The sets are disjoint.\n"
     ]
    }
   ],
   "source": [
    "set1 = {1, 2, 3}\n",
    "set2 = {4, 5, 6}\n",
    "\n",
    "if set1.isdisjoint(set2):\n",
    "    print(\"The sets are disjoint.\")\n",
    "else:\n",
    "    print(\"The sets have elements in common.\")\n"
   ]
  },
  {
   "cell_type": "code",
   "execution_count": 5,
   "id": "ebcbdc7f-37d8-4cf7-8f96-4830d167b5f6",
   "metadata": {},
   "outputs": [
    {
     "name": "stdout",
     "output_type": "stream",
     "text": [
      "{1, 4, 9, 16, 25}\n"
     ]
    }
   ],
   "source": [
    "squares_set = {x**2 for x in range(1,6)}\n",
    "print(squares_set)"
   ]
  },
  {
   "cell_type": "code",
   "execution_count": 6,
   "id": "8ec8ea69-8900-4f9b-92d0-970f243da43c",
   "metadata": {},
   "outputs": [
    {
     "name": "stdout",
     "output_type": "stream",
     "text": [
      "{1, 3, 5, 7, 9}\n"
     ]
    }
   ],
   "source": [
    "original_set = {1,2,3,4,5,6,7,8,9,10}\n",
    "odd_numbers_set = {i for i in original_set if i%2 !=0}\n",
    "print(odd_numbers_set)"
   ]
  },
  {
   "cell_type": "code",
   "execution_count": 7,
   "id": "6b5b6aab-3ca4-4099-a97f-938c15a4bdc7",
   "metadata": {},
   "outputs": [
    {
     "name": "stdout",
     "output_type": "stream",
     "text": [
      "{2, 4, 6, 8, 10, 12, 14, 16, 18, 20}\n"
     ]
    }
   ],
   "source": [
    "original_set = {1,2,3,4,5,6,7,8,9,10}\n",
    "multiply_by_2 = {i*2 for i in original_set}\n",
    "print(multiply_by_2)"
   ]
  },
  {
   "cell_type": "code",
   "execution_count": 9,
   "id": "9eaceb6b-9b1e-492e-81d9-2dbf41105d7a",
   "metadata": {},
   "outputs": [
    {
     "name": "stdout",
     "output_type": "stream",
     "text": [
      "{34, 40, 43, 82, 52}\n"
     ]
    }
   ],
   "source": [
    "import random\n",
    "\n",
    "random_set = set(random.sample(range(1,101),5))\n",
    "print(random_set)\n"
   ]
  },
  {
   "cell_type": "code",
   "execution_count": 10,
   "id": "f6cce711-45ab-473a-a722-ff6ef26529c4",
   "metadata": {},
   "outputs": [
    {
     "name": "stdout",
     "output_type": "stream",
     "text": [
      "The set is empty.\n"
     ]
    }
   ],
   "source": [
    "my_set = set()\n",
    "\n",
    "if not my_set:\n",
    "    print(\"The set is empty.\")\n",
    "else:\n",
    "    print(\"The set is not empty.\")\n"
   ]
  },
  {
   "cell_type": "code",
   "execution_count": 11,
   "id": "9343a049-6522-4e99-8036-83aaf4884677",
   "metadata": {},
   "outputs": [
    {
     "name": "stdout",
     "output_type": "stream",
     "text": [
      "{frozenset({'c', 'a', 'b'}), frozenset({1, 2})}\n"
     ]
    }
   ],
   "source": [
    "nested_set = {frozenset({1, 2}), frozenset({'a', 'b', 'c'})}\n",
    "print(nested_set)\n"
   ]
  },
  {
   "cell_type": "code",
   "execution_count": 12,
   "id": "cd43ad0e-b0c1-45b5-aa21-17262cb073dc",
   "metadata": {},
   "outputs": [
    {
     "name": "stdout",
     "output_type": "stream",
     "text": [
      "{1, 2, 3, 4, 5, 7}\n"
     ]
    }
   ],
   "source": [
    "set4 = {1,2,3,4,5,6,7}\n",
    "set4.discard(6)\n",
    "print(set4)"
   ]
  },
  {
   "cell_type": "code",
   "execution_count": 13,
   "id": "2ae83ca6-974a-45c1-af6c-51364808bfbd",
   "metadata": {},
   "outputs": [
    {
     "name": "stdout",
     "output_type": "stream",
     "text": [
      "True\n",
      "True\n",
      "True\n",
      "True\n",
      "True\n",
      "True\n"
     ]
    }
   ],
   "source": [
    "set1 = {1, 2, 3}\n",
    "set2 = {3, 2, 1}\n",
    "set3 = {1, 2, 4}\n",
    "set4 = {1, 2, 3, 4}\n",
    "\n",
    "print(set1 == set2)  \n",
    "print(set1 != set3) \n",
    "print(set1 < set4)   \n",
    "print(set4 > set1)   \n",
    "print(set1 <= set2)  \n",
    "print(set4 >= set3) \n"
   ]
  },
  {
   "cell_type": "code",
   "execution_count": 14,
   "id": "2bcc8fe9-709d-45ea-8d38-d38372d5aa35",
   "metadata": {},
   "outputs": [
    {
     "name": "stdout",
     "output_type": "stream",
     "text": [
      "{'e', 'o', 'h', 'l'}\n"
     ]
    }
   ],
   "source": [
    "my_string = (\"hello\")\n",
    "my_set = set(my_string)\n",
    "print(my_set)"
   ]
  },
  {
   "cell_type": "code",
   "execution_count": 15,
   "id": "6c9b17e4-00e5-47f4-b7f0-68fd2892a34c",
   "metadata": {},
   "outputs": [
    {
     "name": "stdout",
     "output_type": "stream",
     "text": [
      "{1, 2, 3, 4, 5}\n"
     ]
    }
   ],
   "source": [
    "set_of_strings = {\"1\", \"2\", \"3\", \"4\", \"5\"}\n",
    "set_of_integers = {int(x) for x in set_of_strings}\n",
    "print(set_of_integers)\n"
   ]
  },
  {
   "cell_type": "code",
   "execution_count": 18,
   "id": "b38cef4a-c85f-4432-b406-7c0741269882",
   "metadata": {},
   "outputs": [
    {
     "name": "stdout",
     "output_type": "stream",
     "text": [
      "{'1', '5', '4', '2', '3'}\n"
     ]
    }
   ],
   "source": [
    "set_of_integers = {1, 2, 3, 4, 5}\n",
    "set_of_strings = {str(x) for x in set_of_integers}\n",
    "print(set_of_strings)\n"
   ]
  },
  {
   "cell_type": "code",
   "execution_count": 19,
   "id": "87606a1b-5325-4e11-a951-fe9cc468d3ae",
   "metadata": {},
   "outputs": [
    {
     "name": "stdout",
     "output_type": "stream",
     "text": [
      "{1, 2, 3, 4, 5}\n"
     ]
    }
   ],
   "source": [
    "my_tuple = (1, 2, 3, 4, 5)\n",
    "my_set = set(my_tuple)\n",
    "print(my_set)\n"
   ]
  },
  {
   "cell_type": "code",
   "execution_count": 20,
   "id": "4f6507e5-6f33-4866-835e-c39889752057",
   "metadata": {},
   "outputs": [
    {
     "name": "stdout",
     "output_type": "stream",
     "text": [
      "(1, 2, 3, 4, 5)\n"
     ]
    }
   ],
   "source": [
    "my_set = {1,2,3,4,5}\n",
    "my_tuple = tuple(my_set)\n",
    "print(my_tuple)"
   ]
  },
  {
   "cell_type": "code",
   "execution_count": 23,
   "id": "ed555db1-67e7-405b-bc9f-2d2a8be6ea7a",
   "metadata": {},
   "outputs": [
    {
     "name": "stdout",
     "output_type": "stream",
     "text": [
      "79\n"
     ]
    }
   ],
   "source": [
    "set4 = {78,42,14,25,65,79}\n",
    "max_set4 = max(set4)\n",
    "print(max_set4)"
   ]
  },
  {
   "cell_type": "code",
   "execution_count": 24,
   "id": "37a7c36c-d2a9-46d4-ba5b-11d03e96c13f",
   "metadata": {},
   "outputs": [
    {
     "name": "stdout",
     "output_type": "stream",
     "text": [
      "14\n"
     ]
    }
   ],
   "source": [
    "set4 = {78,42,14,25,65,79}\n",
    "min_set4 = min(set4)\n",
    "print(min_set4)"
   ]
  },
  {
   "cell_type": "code",
   "execution_count": 26,
   "id": "e0536f0a-b830-4a6a-a0e0-1583c336803e",
   "metadata": {},
   "outputs": [
    {
     "name": "stdin",
     "output_type": "stream",
     "text": [
      "Enter elements separated by spaces:  1 2 3 4 5\n"
     ]
    },
    {
     "name": "stdout",
     "output_type": "stream",
     "text": [
      "Set from user input: {'1', '5', '4', '2', '3'}\n"
     ]
    }
   ],
   "source": [
    "user_input = input(\"Enter elements separated by spaces: \")\n",
    "elements_list = user_input.split()  \n",
    "user_set = set(elements_list)       \n",
    "\n",
    "print(\"Set from user input:\", user_set)\n"
   ]
  },
  {
   "cell_type": "code",
   "execution_count": 29,
   "id": "db43fc93-2530-47e7-8b4b-38618c811d8c",
   "metadata": {},
   "outputs": [
    {
     "name": "stdout",
     "output_type": "stream",
     "text": [
      "The intersection of the sets is empty.\n"
     ]
    }
   ],
   "source": [
    "set1 = {1, 2, 3}\n",
    "set2 = {4, 5, 6}\n",
    "\n",
    "if set1.isdisjoint(set2):\n",
    "    print(\"The intersection of the sets is empty.\")\n",
    "else:\n",
    "    print(\"The intersection of the sets is not empty.\")\n"
   ]
  },
  {
   "cell_type": "code",
   "execution_count": 31,
   "id": "fa17f995-7b0e-47c8-baf8-74c8a9672288",
   "metadata": {},
   "outputs": [
    {
     "name": "stdout",
     "output_type": "stream",
     "text": [
      "{0, 1, 2, 3, 5}\n"
     ]
    }
   ],
   "source": [
    "fibonacci_set = set()\n",
    "a , b = 0 , 1\n",
    "count = 0\n",
    "\n",
    "while count <= 5:\n",
    "    fibonacci_set.add(a)\n",
    "    a , b = b , a + b\n",
    "    count += 1\n",
    "print(fibonacci_set)    "
   ]
  },
  {
   "cell_type": "code",
   "execution_count": 34,
   "id": "bdfd0545-2120-4fe2-a884-d3a82a5ebf91",
   "metadata": {},
   "outputs": [
    {
     "name": "stdout",
     "output_type": "stream",
     "text": [
      "[1, 2, 3, 4, 5, 6]\n"
     ]
    }
   ],
   "source": [
    "my_list = [1, 2, 3, 3, 4, 5, 5, 6]\n",
    "unique_list = list(set(my_list))\n",
    "print(unique_list)\n"
   ]
  },
  {
   "cell_type": "code",
   "execution_count": 35,
   "id": "5bf88868-1912-40ff-addd-e8b7c94542fd",
   "metadata": {},
   "outputs": [
    {
     "name": "stdout",
     "output_type": "stream",
     "text": [
      "The sets have the same elements regardless of their count.\n"
     ]
    }
   ],
   "source": [
    "set1 = {1, 2, 3, 4}\n",
    "set2 = {4, 3, 2, 1}\n",
    "\n",
    "if set1 == set2:\n",
    "    print(\"The sets have the same elements regardless of their count.\")\n",
    "else:\n",
    "    print(\"The sets do not have the same elements regardless of their count.\")\n"
   ]
  },
  {
   "cell_type": "code",
   "execution_count": 1,
   "id": "21c7a327-d942-45e2-b54e-474fea13bea1",
   "metadata": {},
   "outputs": [
    {
     "name": "stdout",
     "output_type": "stream",
     "text": [
      "{1, 2, 4, 8, 16}\n"
     ]
    }
   ],
   "source": [
    "n = 5  \n",
    "powers_of_2_set = {2 ** i for i in range(n)}\n",
    "print(powers_of_2_set)\n"
   ]
  },
  {
   "cell_type": "code",
   "execution_count": 2,
   "id": "7c3c52e2-9a73-436a-8d96-346aac5bd7de",
   "metadata": {},
   "outputs": [
    {
     "name": "stdout",
     "output_type": "stream",
     "text": [
      "{4, 5}\n"
     ]
    }
   ],
   "source": [
    "my_set = {1, 2, 3, 4, 5}\n",
    "my_list = [4, 5, 6, 7, 8]\n",
    "\n",
    "common_elements = my_set.intersection(my_list)\n",
    "print(common_elements)\n"
   ]
  },
  {
   "cell_type": "code",
   "execution_count": 3,
   "id": "b05e2ee7-9b3e-45a5-8c5e-6b0f48a626e8",
   "metadata": {},
   "outputs": [
    {
     "name": "stdout",
     "output_type": "stream",
     "text": [
      "{1, 3, 6, 10, 15}\n"
     ]
    }
   ],
   "source": [
    "n = 5\n",
    "triangular_set_numbers = {i*(i+1)// 2 for i in range (1,n+1)}\n",
    "print(triangular_set_numbers)\n"
   ]
  },
  {
   "cell_type": "code",
   "execution_count": 4,
   "id": "1d93d60b-c208-466b-b4e2-0fd4028e4aeb",
   "metadata": {},
   "outputs": [
    {
     "name": "stdout",
     "output_type": "stream",
     "text": [
      "set2 is a subset of set1.\n"
     ]
    }
   ],
   "source": [
    "set1 = {1, 2, 3, 4, 5}\n",
    "set2 = {2, 3}\n",
    "\n",
    "if set2.issubset(set1):\n",
    "    print(\"set2 is a subset of set1.\")\n",
    "else:\n",
    "    print(\"set2 is not a subset of set1.\")\n"
   ]
  },
  {
   "cell_type": "code",
   "execution_count": 12,
   "id": "8141a17c-72e4-4f42-ae17-7cba4fe7fc1c",
   "metadata": {},
   "outputs": [],
   "source": [
    "def alternating_ones_and_zeros(n):\n",
    "    return [i % 2 for i in range(n)]\n"
   ]
  },
  {
   "cell_type": "code",
   "execution_count": 13,
   "id": "169441c6-2df9-4341-8428-fa14282094d9",
   "metadata": {},
   "outputs": [
    {
     "data": {
      "text/plain": [
       "[0, 1, 0, 1, 0, 1]"
      ]
     },
     "execution_count": 13,
     "metadata": {},
     "output_type": "execute_result"
    }
   ],
   "source": [
    "alternating_ones_and_zeros(6)"
   ]
  },
  {
   "cell_type": "code",
   "execution_count": 14,
   "id": "75516d0c-9653-4ab6-8e25-42e9ae7192f6",
   "metadata": {},
   "outputs": [
    {
     "name": "stdout",
     "output_type": "stream",
     "text": [
      "{1, 2, 3, 4, 5, 6, 7}\n"
     ]
    }
   ],
   "source": [
    "set1 = {1, 2, 3}\n",
    "set2 = {3, 4, 5}\n",
    "set3 = {5, 6, 7}\n",
    "\n",
    "merged_set = set1.union(set2, set3)\n",
    "print(merged_set)\n"
   ]
  },
  {
   "cell_type": "code",
   "execution_count": null,
   "id": "5e74b72c-f0b7-449e-9f6e-69d910445fb2",
   "metadata": {},
   "outputs": [],
   "source": []
  }
 ],
 "metadata": {
  "kernelspec": {
   "display_name": "Python 3 (ipykernel)",
   "language": "python",
   "name": "python3"
  },
  "language_info": {
   "codemirror_mode": {
    "name": "ipython",
    "version": 3
   },
   "file_extension": ".py",
   "mimetype": "text/x-python",
   "name": "python",
   "nbconvert_exporter": "python",
   "pygments_lexer": "ipython3",
   "version": "3.10.8"
  }
 },
 "nbformat": 4,
 "nbformat_minor": 5
}
