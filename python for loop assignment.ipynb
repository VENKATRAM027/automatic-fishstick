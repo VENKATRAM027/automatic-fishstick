{
  "nbformat": 4,
  "nbformat_minor": 0,
  "metadata": {
    "colab": {
      "provenance": []
    },
    "kernelspec": {
      "name": "python3",
      "display_name": "Python 3"
    },
    "language_info": {
      "name": "python"
    }
  },
  "cells": [
    {
      "cell_type": "code",
      "execution_count": null,
      "metadata": {
        "colab": {
          "base_uri": "https://localhost:8080/"
        },
        "id": "0fgFrw2kQtPl",
        "outputId": "555cecae-332b-43bf-c81c-fb3c5c3ae802"
      },
      "outputs": [
        {
          "output_type": "stream",
          "name": "stdout",
          "text": [
            "1\n",
            "2\n",
            "3\n",
            "4\n",
            "5\n",
            "6\n",
            "7\n",
            "8\n",
            "9\n",
            "10\n"
          ]
        }
      ],
      "source": [
        "for i in range(1,11):\n",
        "  print(i)"
      ]
    },
    {
      "cell_type": "code",
      "source": [
        "def sum_of_list(list1):\n",
        "  sum = 0\n",
        "  for i in list1:\n",
        "    sum += i\n",
        "  return sum\n",
        "\n",
        "numbers = [5,4,7,8,3,2]\n",
        "result = sum_of_list(numbers)\n",
        "print(result)"
      ],
      "metadata": {
        "colab": {
          "base_uri": "https://localhost:8080/"
        },
        "id": "bs3hZio_RI7L",
        "outputId": "5e537018-4852-437c-df1f-917f021a14aa"
      },
      "execution_count": null,
      "outputs": [
        {
          "output_type": "stream",
          "name": "stdout",
          "text": [
            "29\n"
          ]
        }
      ]
    },
    {
      "cell_type": "code",
      "source": [
        "def reversed_string(string):\n",
        "  reversed_string = ''\n",
        "  for char in string:\n",
        "    reversed_string = char + reversed_string\n",
        "  return reversed_string\n",
        "\n",
        "string1 = 'alphabet'\n",
        "result = reversed_string(string1)\n",
        "print(result)\n"
      ],
      "metadata": {
        "colab": {
          "base_uri": "https://localhost:8080/"
        },
        "id": "C-b4t8RuR_eD",
        "outputId": "15704eed-2f6c-4d6f-d6d3-2ee042573898"
      },
      "execution_count": null,
      "outputs": [
        {
          "output_type": "stream",
          "name": "stdout",
          "text": [
            "tebahpla\n"
          ]
        }
      ]
    },
    {
      "cell_type": "code",
      "source": [
        "def fact_of(n):\n",
        "  if n < 0 :\n",
        "    return None\n",
        "  elif n == 0:\n",
        "    return 1\n",
        "  else:\n",
        "    factorial = 1\n",
        "    for i in range(1,n+1):\n",
        "      factorial *= i\n",
        "    return factorial\n",
        "\n",
        "num = 6\n",
        "result = fact_of(num)\n",
        "print(result)\n"
      ],
      "metadata": {
        "colab": {
          "base_uri": "https://localhost:8080/"
        },
        "id": "F-OjzcdESDuB",
        "outputId": "65fa7261-e0eb-452b-b21f-262e76d3d9f1"
      },
      "execution_count": null,
      "outputs": [
        {
          "output_type": "stream",
          "name": "stdout",
          "text": [
            "720\n"
          ]
        }
      ]
    },
    {
      "cell_type": "code",
      "source": [
        "n = int(input('enter a number '))\n",
        "for i in range(1,11):\n",
        "  result = n*i\n",
        "  print(f' {n} X {i} = {result}.')"
      ],
      "metadata": {
        "colab": {
          "base_uri": "https://localhost:8080/"
        },
        "id": "S1FeDQ5UTtLZ",
        "outputId": "e4f1de9e-ec6a-4d43-dd8f-3dc9c05a6652"
      },
      "execution_count": null,
      "outputs": [
        {
          "output_type": "stream",
          "name": "stdout",
          "text": [
            "enter a number 9\n",
            " 9 X 1 = 9.\n",
            " 9 X 2 = 18.\n",
            " 9 X 3 = 27.\n",
            " 9 X 4 = 36.\n",
            " 9 X 5 = 45.\n",
            " 9 X 6 = 54.\n",
            " 9 X 7 = 63.\n",
            " 9 X 8 = 72.\n",
            " 9 X 9 = 81.\n",
            " 9 X 10 = 90.\n"
          ]
        }
      ]
    },
    {
      "cell_type": "code",
      "source": [
        "list = [1,2,3,4,5,6,7,8,9]\n",
        "sum_even = 0\n",
        "sum_odd = 0\n",
        "for i in list:\n",
        "  if i % 2 == 0:\n",
        "    sum_even += 1\n",
        "  else:\n",
        "    sum_odd += 1\n",
        "\n",
        "print(sum_even)\n",
        "print(sum_odd)"
      ],
      "metadata": {
        "colab": {
          "base_uri": "https://localhost:8080/"
        },
        "id": "rcF2j81-UzUA",
        "outputId": "cbc48db6-e382-4fbd-df7f-df17e6725085"
      },
      "execution_count": null,
      "outputs": [
        {
          "output_type": "stream",
          "name": "stdout",
          "text": [
            "4\n",
            "5\n"
          ]
        }
      ]
    },
    {
      "cell_type": "code",
      "source": [
        "for i in range(1,6):\n",
        "  square = i**2\n",
        "  print(square)"
      ],
      "metadata": {
        "id": "rUuHUUMmVuzX",
        "colab": {
          "base_uri": "https://localhost:8080/"
        },
        "outputId": "f1cc2400-0c67-4894-fb66-a6c8e9f4e053"
      },
      "execution_count": null,
      "outputs": [
        {
          "output_type": "stream",
          "name": "stdout",
          "text": [
            "1\n",
            "4\n",
            "9\n",
            "16\n",
            "25\n"
          ]
        }
      ]
    },
    {
      "cell_type": "code",
      "source": [
        "string = 'pwskills'\n",
        "count = 0\n",
        "\n",
        "for char in string:\n",
        "  if char in string:\n",
        "    count += 1\n",
        "\n",
        "print(count)"
      ],
      "metadata": {
        "colab": {
          "base_uri": "https://localhost:8080/"
        },
        "id": "p6ivEDMuso0d",
        "outputId": "a37c9d2b-4b71-4535-c8bc-b6a0ede09935"
      },
      "execution_count": null,
      "outputs": [
        {
          "output_type": "stream",
          "name": "stdout",
          "text": [
            "8\n"
          ]
        }
      ]
    },
    {
      "cell_type": "code",
      "source": [
        "list1 = [10,20,30,40,50]\n",
        "total_count = 0\n",
        "\n",
        "for i in list1:\n",
        "  total_count += i\n",
        "\n",
        "average = total_count / len(list1)\n",
        "print(average)\n"
      ],
      "metadata": {
        "colab": {
          "base_uri": "https://localhost:8080/"
        },
        "id": "-qyEXrH5vWkb",
        "outputId": "a82ce3a5-f3cb-428a-8ffb-c541e3548c12"
      },
      "execution_count": null,
      "outputs": [
        {
          "output_type": "stream",
          "name": "stdout",
          "text": [
            "30.0\n"
          ]
        }
      ]
    },
    {
      "cell_type": "code",
      "source": [
        "n = 10\n",
        "a,b = 0,1\n",
        "for i in range(n):\n",
        "  print(a,end = \" \" )\n",
        "  a,b = b,a+b"
      ],
      "metadata": {
        "id": "1BesnEAxv43R",
        "colab": {
          "base_uri": "https://localhost:8080/"
        },
        "outputId": "2127d658-eff7-4c9c-aeff-ef72da93195a"
      },
      "execution_count": null,
      "outputs": [
        {
          "output_type": "stream",
          "name": "stdout",
          "text": [
            "0 1 1 2 3 5 8 13 21 34 "
          ]
        }
      ]
    },
    {
      "cell_type": "code",
      "source": [
        "def contains_duplicates(input_list):\n",
        "\n",
        "  seen = set()\n",
        "\n",
        "  for element in input_list:\n",
        "\n",
        "    if element in seen:\n",
        "      return True\n",
        "\n",
        "    seen.add(element)\n",
        "\n",
        "  return False\n",
        "\n",
        "my_list = [1,2,3,4,5,6,7,8,9]\n",
        "print(contains_duplicates(my_list))"
      ],
      "metadata": {
        "id": "2GfIZkMHE5c1",
        "colab": {
          "base_uri": "https://localhost:8080/"
        },
        "outputId": "9a2eaeda-6af1-4926-ea2f-ab7236b20ab2"
      },
      "execution_count": 2,
      "outputs": [
        {
          "output_type": "stream",
          "name": "stdout",
          "text": [
            "False\n"
          ]
        }
      ]
    },
    {
      "cell_type": "code",
      "source": [
        "def print_prime_numbers(start, end):\n",
        "\n",
        "  for num in range(start, end + 1):\n",
        "\n",
        "    if num > 1:\n",
        "\n",
        "      for i in range(2,num):\n",
        "        if (num % i) == 0:\n",
        "          break\n",
        "\n",
        "      else:\n",
        "          print(num)\n",
        "\n",
        "start_range = 10\n",
        "end_range = 50\n",
        "print(f\"Prime numbers between {start_range} and {end_range} are:\")\n",
        "print_prime_numbers(start_range, end_range)\n"
      ],
      "metadata": {
        "colab": {
          "base_uri": "https://localhost:8080/"
        },
        "id": "wwltDALkkQE4",
        "outputId": "29b65d3d-51ea-414f-b06b-86782eb2e0a5"
      },
      "execution_count": null,
      "outputs": [
        {
          "output_type": "stream",
          "name": "stdout",
          "text": [
            "Prime numbers between 10 and 50 are:\n",
            "11\n",
            "13\n",
            "17\n",
            "19\n",
            "23\n",
            "29\n",
            "31\n",
            "37\n",
            "41\n",
            "43\n",
            "47\n"
          ]
        }
      ]
    },
    {
      "cell_type": "code",
      "source": [
        "string = 'datascience'\n",
        "vowels = ('a', 'e', 'i', 'o', 'u')\n",
        "count = 0\n",
        "for i in string:\n",
        "  if i in vowels:\n",
        "    count += 1\n",
        "\n",
        "print(count)"
      ],
      "metadata": {
        "colab": {
          "base_uri": "https://localhost:8080/"
        },
        "id": "BoUizsrwleiF",
        "outputId": "788e9cfc-e18a-448e-ca50-6d76ae1c96dc"
      },
      "execution_count": null,
      "outputs": [
        {
          "output_type": "stream",
          "name": "stdout",
          "text": [
            "5\n"
          ]
        }
      ]
    },
    {
      "cell_type": "code",
      "source": [
        "matrix = [\n",
        "         [2, 6, 8],\n",
        "         [4, 7, 9],\n",
        "         [1, 9, 10]\n",
        "]\n",
        "max_element = float('-inf')\n",
        "\n",
        "for i in matrix:\n",
        "  for j in i:\n",
        "    if j > max_element:\n",
        "      max_element = j\n",
        "\n",
        "print(max_element)"
      ],
      "metadata": {
        "colab": {
          "base_uri": "https://localhost:8080/"
        },
        "id": "SL5hVFJvm2Q9",
        "outputId": "9cfec103-5666-45b2-80d4-d2e5a8bf1e16"
      },
      "execution_count": null,
      "outputs": [
        {
          "output_type": "stream",
          "name": "stdout",
          "text": [
            "10\n"
          ]
        }
      ]
    },
    {
      "cell_type": "code",
      "source": [
        "def remove_element(lst, element):\n",
        "  result = []\n",
        "  for i in lst:\n",
        "    if i != element:\n",
        "      result.append(i)\n",
        "  return result\n",
        "\n",
        "my_list = [1, 2, 3, 2, 4, 2, 5]\n",
        "to_remove = 2\n",
        "new_list = remove_element(my_list,to_remove)\n",
        "print(new_list)"
      ],
      "metadata": {
        "colab": {
          "base_uri": "https://localhost:8080/"
        },
        "id": "PdvQ41_Mnefr",
        "outputId": "65d668e2-a528-4b1c-a4fc-b69a50f2e645"
      },
      "execution_count": null,
      "outputs": [
        {
          "output_type": "stream",
          "name": "stdout",
          "text": [
            "[1, 3, 4, 5]\n"
          ]
        }
      ]
    },
    {
      "cell_type": "code",
      "source": [
        "for i in range(1,6):\n",
        "  for j in range(1,11):\n",
        "    print(f'{i} X {j} = {i*j}.')\n",
        "  print()"
      ],
      "metadata": {
        "colab": {
          "base_uri": "https://localhost:8080/"
        },
        "id": "VJ4IIEWJnheb",
        "outputId": "9a0d6b7d-51bb-41e2-a6b1-3ffe305f70cd"
      },
      "execution_count": null,
      "outputs": [
        {
          "output_type": "stream",
          "name": "stdout",
          "text": [
            "1 X 1 = 1.\n",
            "1 X 2 = 2.\n",
            "1 X 3 = 3.\n",
            "1 X 4 = 4.\n",
            "1 X 5 = 5.\n",
            "1 X 6 = 6.\n",
            "1 X 7 = 7.\n",
            "1 X 8 = 8.\n",
            "1 X 9 = 9.\n",
            "1 X 10 = 10.\n",
            "\n",
            "2 X 1 = 2.\n",
            "2 X 2 = 4.\n",
            "2 X 3 = 6.\n",
            "2 X 4 = 8.\n",
            "2 X 5 = 10.\n",
            "2 X 6 = 12.\n",
            "2 X 7 = 14.\n",
            "2 X 8 = 16.\n",
            "2 X 9 = 18.\n",
            "2 X 10 = 20.\n",
            "\n",
            "3 X 1 = 3.\n",
            "3 X 2 = 6.\n",
            "3 X 3 = 9.\n",
            "3 X 4 = 12.\n",
            "3 X 5 = 15.\n",
            "3 X 6 = 18.\n",
            "3 X 7 = 21.\n",
            "3 X 8 = 24.\n",
            "3 X 9 = 27.\n",
            "3 X 10 = 30.\n",
            "\n",
            "4 X 1 = 4.\n",
            "4 X 2 = 8.\n",
            "4 X 3 = 12.\n",
            "4 X 4 = 16.\n",
            "4 X 5 = 20.\n",
            "4 X 6 = 24.\n",
            "4 X 7 = 28.\n",
            "4 X 8 = 32.\n",
            "4 X 9 = 36.\n",
            "4 X 10 = 40.\n",
            "\n",
            "5 X 1 = 5.\n",
            "5 X 2 = 10.\n",
            "5 X 3 = 15.\n",
            "5 X 4 = 20.\n",
            "5 X 5 = 25.\n",
            "5 X 6 = 30.\n",
            "5 X 7 = 35.\n",
            "5 X 8 = 40.\n",
            "5 X 9 = 45.\n",
            "5 X 10 = 50.\n",
            "\n"
          ]
        }
      ]
    },
    {
      "cell_type": "code",
      "source": [
        "def farenheit_to_celsius(f_temps):\n",
        "  celsius_temp = []\n",
        "  for temp in f_temps:\n",
        "    celsius = (temp - 32) * 5/9\n",
        "    celsius_temp.append(celsius)\n",
        "  return celsius_temp\n",
        "\n",
        "f_temps = [34,68,107,212]\n",
        "c_temps = farenheit_to_celsius(f_temps)\n",
        "print(c_temps)"
      ],
      "metadata": {
        "colab": {
          "base_uri": "https://localhost:8080/"
        },
        "id": "x4V10HA8oukq",
        "outputId": "c4cad9cc-fa63-4ab0-82fe-7976c005b05c"
      },
      "execution_count": null,
      "outputs": [
        {
          "output_type": "stream",
          "name": "stdout",
          "text": [
            "[1.1111111111111112, 20.0, 41.666666666666664, 100.0]\n"
          ]
        }
      ]
    },
    {
      "cell_type": "code",
      "source": [
        "def common_element(data1,data2):\n",
        "  data3 = []\n",
        "  for i in data1:\n",
        "    for j in data2:\n",
        "      if i == j:\n",
        "        data3.append(i)\n",
        "  return data3\n",
        "\n",
        "data1 = [1,2,3,4,6,8]\n",
        "data2 = [1,5,4,8,9]\n",
        "common_element(data1,data2)"
      ],
      "metadata": {
        "colab": {
          "base_uri": "https://localhost:8080/"
        },
        "id": "yy5XmPzXo53B",
        "outputId": "3d6c69f9-094e-4ad6-8a37-2504e13e6f6e"
      },
      "execution_count": null,
      "outputs": [
        {
          "output_type": "execute_result",
          "data": {
            "text/plain": [
              "[1, 4, 8]"
            ]
          },
          "metadata": {},
          "execution_count": 16
        }
      ]
    },
    {
      "cell_type": "code",
      "source": [
        "def print_triangle(n):\n",
        "  for i in range(1,n+1):\n",
        "    print(' *' * i)\n",
        "\n",
        "print_triangle(5)"
      ],
      "metadata": {
        "colab": {
          "base_uri": "https://localhost:8080/"
        },
        "id": "usxua3ZmpPfh",
        "outputId": "db23f507-16c1-4fe2-c913-8da5e8afc4c1"
      },
      "execution_count": null,
      "outputs": [
        {
          "output_type": "stream",
          "name": "stdout",
          "text": [
            " *\n",
            " * *\n",
            " * * *\n",
            " * * * *\n",
            " * * * * *\n"
          ]
        }
      ]
    },
    {
      "cell_type": "code",
      "source": [
        "def gcd(a, b):\n",
        "    gcd = 1\n",
        "    for i in range(1, min(a,b)+1):\n",
        "      if a%i == 0 and b%i == 0:\n",
        "        gcd = i\n",
        "    return gcd\n",
        "\n",
        "num1 = 48\n",
        "num2 = 30\n",
        "print(\"GCD of\", num1, \"and\", num2, \"is:\", gcd(num1,num2))"
      ],
      "metadata": {
        "colab": {
          "base_uri": "https://localhost:8080/"
        },
        "id": "RySJ0Zitpg8a",
        "outputId": "302549ce-0c1f-4d62-aa10-9b8c98a73874"
      },
      "execution_count": null,
      "outputs": [
        {
          "output_type": "stream",
          "name": "stdout",
          "text": [
            "GCD of 48 and 30 is: 6\n"
          ]
        }
      ]
    },
    {
      "cell_type": "code",
      "source": [
        "def sum_of_digits(numbers):\n",
        "    return [sum(int(digit) for digit in str(number)) for number in numbers]\n",
        "\n",
        "\n",
        "numbers = [123, 456, 789]\n",
        "print(sum_of_digits(numbers))\n"
      ],
      "metadata": {
        "colab": {
          "base_uri": "https://localhost:8080/"
        },
        "id": "kGneSUCDpxP4",
        "outputId": "93445462-44de-46a3-b50f-0a1d9d053d7c"
      },
      "execution_count": null,
      "outputs": [
        {
          "output_type": "stream",
          "name": "stdout",
          "text": [
            "[6, 15, 24]\n"
          ]
        }
      ]
    },
    {
      "cell_type": "code",
      "source": [
        "def prime_factors(number):\n",
        "    factors = []\n",
        "\n",
        "    while number % 2 == 0:\n",
        "        factors.append(2)\n",
        "        number //= 2\n",
        "\n",
        "\n",
        "    for i in range(3, int(number**0.5) + 1, 2):\n",
        "        while number % i == 0:\n",
        "            factors.append(i)\n",
        "            number //= i\n",
        "\n",
        "\n",
        "    if number > 2:\n",
        "        factors.append(number)\n",
        "\n",
        "    return factors\n",
        "\n",
        "\n",
        "number = 315\n",
        "print(prime_factors(number))\n"
      ],
      "metadata": {
        "colab": {
          "base_uri": "https://localhost:8080/"
        },
        "id": "r6PxqgJuqWIg",
        "outputId": "be9622ae-149b-48c9-d52c-da7e1d92ab0d"
      },
      "execution_count": null,
      "outputs": [
        {
          "output_type": "stream",
          "name": "stdout",
          "text": [
            "[3, 3, 5, 7]\n"
          ]
        }
      ]
    },
    {
      "cell_type": "code",
      "source": [
        "def unique_elements(lst):\n",
        "    return [element for index, element in enumerate(lst) if element not in lst[:index]]\n",
        "\n",
        "\n",
        "numbers = [1, 2, 2, 3, 4, 4, 5, 6, 6, 7]\n",
        "unique_numbers = unique_elements(numbers)\n",
        "print(unique_numbers)\n"
      ],
      "metadata": {
        "colab": {
          "base_uri": "https://localhost:8080/"
        },
        "id": "iNCil_2crlp_",
        "outputId": "293ebacd-64df-4e46-f310-d7fc90a5e60a"
      },
      "execution_count": null,
      "outputs": [
        {
          "output_type": "stream",
          "name": "stdout",
          "text": [
            "[1, 2, 3, 4, 5, 6, 7]\n"
          ]
        }
      ]
    },
    {
      "cell_type": "code",
      "source": [
        "def palindromic_numbers(limit):\n",
        "    return [number for number in range(limit) if str(number) == str(number)[::-1]]\n",
        "\n",
        "\n",
        "limit = 200\n",
        "palindromes = palindromic_numbers(limit)\n",
        "print(palindromes)\n"
      ],
      "metadata": {
        "colab": {
          "base_uri": "https://localhost:8080/"
        },
        "id": "O4A_hMUlsDpe",
        "outputId": "b12de32c-44ec-4522-caff-523e5d229ae8"
      },
      "execution_count": null,
      "outputs": [
        {
          "output_type": "stream",
          "name": "stdout",
          "text": [
            "[0, 1, 2, 3, 4, 5, 6, 7, 8, 9, 11, 22, 33, 44, 55, 66, 77, 88, 99, 101, 111, 121, 131, 141, 151, 161, 171, 181, 191]\n"
          ]
        }
      ]
    },
    {
      "cell_type": "code",
      "source": [
        "def flatten_nested_list(nested_list):\n",
        "    return [item for sublist in nested_list for item in sublist]\n",
        "\n",
        "\n",
        "nested_list = [[1, 2, 3], [4, 5], [6, 7, 8, 9]]\n",
        "flattened_list = flatten_nested_list(nested_list)\n",
        "print(flattened_list)\n"
      ],
      "metadata": {
        "colab": {
          "base_uri": "https://localhost:8080/"
        },
        "id": "WbJ3qvoIsYS-",
        "outputId": "86e37f6a-d98a-42f5-9c09-f6236d4c6e72"
      },
      "execution_count": null,
      "outputs": [
        {
          "output_type": "stream",
          "name": "stdout",
          "text": [
            "[1, 2, 3, 4, 5, 6, 7, 8, 9]\n"
          ]
        }
      ]
    },
    {
      "cell_type": "code",
      "source": [
        "numbers = [1,2,3,4,5,6,7,8,9,10]\n",
        "\n",
        "sum_even = sum([num for num in numbers if num % 2 == 0])\n",
        "sum_odd = sum([num for num in numbers if num % 2 != 0])\n",
        "\n",
        "print(\"sum of even numbers:\",sum_even)\n",
        "print(\"sum of odd numbers:\",sum_odd)"
      ],
      "metadata": {
        "id": "v5ybQjgUsqW1",
        "colab": {
          "base_uri": "https://localhost:8080/"
        },
        "outputId": "1875cccb-63a4-4a0b-a15f-7cbed107c478"
      },
      "execution_count": 5,
      "outputs": [
        {
          "output_type": "stream",
          "name": "stdout",
          "text": [
            "sum of even numbers: 30\n",
            "sum of odd numbers: 25\n"
          ]
        }
      ]
    },
    {
      "cell_type": "code",
      "source": [
        "squares_of_odd_numbers = [num**2 for num in range(1,11) if num % 2 !=0]\n",
        "\n",
        "print(\"squares of odd numbers between 1 and 10:\",squares_of_odd_numbers)"
      ],
      "metadata": {
        "colab": {
          "base_uri": "https://localhost:8080/"
        },
        "id": "fVHMWNKDUA1u",
        "outputId": "cb3dbe2c-4973-4d38-aba3-08ec15f9d3de"
      },
      "execution_count": 6,
      "outputs": [
        {
          "output_type": "stream",
          "name": "stdout",
          "text": [
            "squares of odd numbers between 1 and 10: [1, 9, 25, 49, 81]\n"
          ]
        }
      ]
    },
    {
      "cell_type": "code",
      "source": [
        "keys = ['a', 'b', 'c']\n",
        "values = [1, 2, 3]\n",
        "\n",
        "\n",
        "combined_dict = {keys[i]: values[i] for i in range(len(keys))}\n",
        "\n",
        "print(\"Combined dictionary:\", combined_dict)"
      ],
      "metadata": {
        "colab": {
          "base_uri": "https://localhost:8080/"
        },
        "id": "W49QGG7LU37l",
        "outputId": "058786f3-9486-43de-d97c-f9f030e406ee"
      },
      "execution_count": 7,
      "outputs": [
        {
          "output_type": "stream",
          "name": "stdout",
          "text": [
            "Combined dictionary: {'a': 1, 'b': 2, 'c': 3}\n"
          ]
        }
      ]
    },
    {
      "cell_type": "code",
      "source": [
        "\n",
        "text = \"Hello, how are you?\"\n",
        "\n",
        "\n",
        "vowels = [char for char in text if char.lower() in 'aeiou']\n",
        "\n",
        "print(\"List of vowels:\", vowels)\n"
      ],
      "metadata": {
        "colab": {
          "base_uri": "https://localhost:8080/"
        },
        "id": "GMmDGN7vVJnT",
        "outputId": "ea7525b9-7be2-4b4a-f58a-85855ff1b2ef"
      },
      "execution_count": 8,
      "outputs": [
        {
          "output_type": "stream",
          "name": "stdout",
          "text": [
            "List of vowels: ['e', 'o', 'o', 'a', 'e', 'o', 'u']\n"
          ]
        }
      ]
    },
    {
      "cell_type": "code",
      "source": [
        "\n",
        "strings = [\"abc123\", \"def456\", \"ghi789\", \"1a2b3c\"]\n",
        "\n",
        "\n",
        "numeric_strings = [''.join([char for char in s if char.isdigit()]) for s in strings]\n",
        "\n",
        "print(\"List of numeric strings:\", numeric_strings)\n"
      ],
      "metadata": {
        "colab": {
          "base_uri": "https://localhost:8080/"
        },
        "id": "3CW4ejEvVWML",
        "outputId": "95439b5f-3519-4568-ad49-f6a56b529988"
      },
      "execution_count": 9,
      "outputs": [
        {
          "output_type": "stream",
          "name": "stdout",
          "text": [
            "List of numeric strings: ['123', '456', '789', '123']\n"
          ]
        }
      ]
    },
    {
      "cell_type": "code",
      "source": [
        "def sieve_of_eratosthenes(n):\n",
        "\n",
        "    prime = [True] * (n + 1)\n",
        "    p = 2\n",
        "    while (p * p <= n):\n",
        "\n",
        "        if prime[p]:\n",
        "\n",
        "            for i in range(p * p, n + 1, p):\n",
        "                prime[i] = False\n",
        "        p += 1\n",
        "\n",
        "    return [p for p in range(2, n + 1) if prime[p]]\n",
        "\n",
        "\n",
        "prime_numbers = sieve_of_eratosthenes(50)\n",
        "print(\"List of prime numbers up to 50:\", prime_numbers)\n"
      ],
      "metadata": {
        "colab": {
          "base_uri": "https://localhost:8080/"
        },
        "id": "J2Kz0RJwV7sS",
        "outputId": "6fe0e6b3-268b-489d-8588-622ee4e45430"
      },
      "execution_count": 10,
      "outputs": [
        {
          "output_type": "stream",
          "name": "stdout",
          "text": [
            "List of prime numbers up to 50: [2, 3, 5, 7, 11, 13, 17, 19, 23, 29, 31, 37, 41, 43, 47]\n"
          ]
        }
      ]
    },
    {
      "cell_type": "code",
      "source": [
        "def pythagorean_triplets(limit):\n",
        "\n",
        "    triplets = [(a, b, c) for a in range(1, limit+1)\n",
        "                        for b in range(a, limit+1)\n",
        "                        for c in range(b, limit+1)\n",
        "                        if a**2 + b**2 == c**2]\n",
        "    return triplets\n",
        "\n",
        "\n",
        "limit = 20\n",
        "triplets = pythagorean_triplets(limit)\n",
        "print(\"Pythagorean triplets up to\", limit, \":\", triplets)\n"
      ],
      "metadata": {
        "colab": {
          "base_uri": "https://localhost:8080/"
        },
        "id": "Rxo7oCxxWYoK",
        "outputId": "ae182da1-3275-40f0-f712-eb400fd0e674"
      },
      "execution_count": 11,
      "outputs": [
        {
          "output_type": "stream",
          "name": "stdout",
          "text": [
            "Pythagorean triplets up to 20 : [(3, 4, 5), (5, 12, 13), (6, 8, 10), (8, 15, 17), (9, 12, 15), (12, 16, 20)]\n"
          ]
        }
      ]
    },
    {
      "cell_type": "code",
      "source": [
        "\n",
        "list1 = [1, 2, 3]\n",
        "list2 = ['a', 'b', 'c']\n",
        "\n",
        "\n",
        "combinations = [(x, y) for x in list1 for y in list2]\n",
        "\n",
        "print(\"All possible combinations:\", combinations)\n"
      ],
      "metadata": {
        "colab": {
          "base_uri": "https://localhost:8080/"
        },
        "id": "ciUQix_oWn7K",
        "outputId": "55781835-14f2-4bf7-c982-14051fe9f535"
      },
      "execution_count": 12,
      "outputs": [
        {
          "output_type": "stream",
          "name": "stdout",
          "text": [
            "All possible combinations: [(1, 'a'), (1, 'b'), (1, 'c'), (2, 'a'), (2, 'b'), (2, 'c'), (3, 'a'), (3, 'b'), (3, 'c')]\n"
          ]
        }
      ]
    },
    {
      "cell_type": "code",
      "source": [
        "from statistics import mean, median, mode\n",
        "\n",
        "\n",
        "numbers = [1, 2, 2, 3, 4, 4, 4, 5, 6]\n",
        "\n",
        "\n",
        "mean_value = mean(numbers)\n",
        "\n",
        "\n",
        "median_value = median(numbers)\n",
        "\n",
        "\n",
        "mode_value = mode(numbers)\n",
        "\n",
        "print(\"Mean:\", mean_value)\n",
        "print(\"Median:\", median_value)\n",
        "print(\"Mode:\", mode_value)\n"
      ],
      "metadata": {
        "colab": {
          "base_uri": "https://localhost:8080/"
        },
        "id": "zTu4VXFAW2mJ",
        "outputId": "03f647ba-b5c7-40af-d44d-135d98602263"
      },
      "execution_count": 13,
      "outputs": [
        {
          "output_type": "stream",
          "name": "stdout",
          "text": [
            "Mean: 3.4444444444444446\n",
            "Median: 4\n",
            "Mode: 4\n"
          ]
        }
      ]
    },
    {
      "cell_type": "code",
      "source": [
        "def generate_pascals_triangle(n):\n",
        "\n",
        "    triangle = [[1]]\n",
        "    for i in range(1, n):\n",
        "\n",
        "        row = [1 if j == 0 or j == i else triangle[i-1][j-1] + triangle[i-1][j] for j in range(i+1)]\n",
        "        triangle.append(row)\n",
        "    return triangle\n",
        "\n",
        "\n",
        "num_rows = 5\n",
        "pascals_triangle = generate_pascals_triangle(num_rows)\n",
        "print(\"Pascal's Triangle up to\", num_rows, \"rows:\")\n",
        "for row in pascals_triangle:\n",
        "    print(row)\n"
      ],
      "metadata": {
        "colab": {
          "base_uri": "https://localhost:8080/"
        },
        "id": "6xvISGh-XAmR",
        "outputId": "b240c056-6724-4e53-dbfb-474ae041ca2e"
      },
      "execution_count": 14,
      "outputs": [
        {
          "output_type": "stream",
          "name": "stdout",
          "text": [
            "Pascal's Triangle up to 5 rows:\n",
            "[1]\n",
            "[1, 1]\n",
            "[1, 2, 1]\n",
            "[1, 3, 3, 1]\n",
            "[1, 4, 6, 4, 1]\n"
          ]
        }
      ]
    },
    {
      "cell_type": "code",
      "source": [
        "import math\n",
        "\n",
        "\n",
        "factorial_digit_sums = [sum(int(digit) for digit in str(math.factorial(num))) for num in range(1, 6)]\n",
        "\n",
        "print(\"Sum of the digits of the factorial of numbers from 1 to 5:\", factorial_digit_sums)\n"
      ],
      "metadata": {
        "colab": {
          "base_uri": "https://localhost:8080/"
        },
        "id": "sAvsVHdrXJ9h",
        "outputId": "25d51fa1-a727-485a-d654-442ed436c878"
      },
      "execution_count": 15,
      "outputs": [
        {
          "output_type": "stream",
          "name": "stdout",
          "text": [
            "Sum of the digits of the factorial of numbers from 1 to 5: [1, 2, 6, 6, 3]\n"
          ]
        }
      ]
    },
    {
      "cell_type": "code",
      "source": [
        "\n",
        "sentence = \"The quick brown fox jumps over the lazy dog\"\n",
        "\n",
        "\n",
        "longest_word = max(sentence.split(), key=len)\n",
        "\n",
        "print(\"The longest word in the sentence is:\", longest_word)\n"
      ],
      "metadata": {
        "colab": {
          "base_uri": "https://localhost:8080/"
        },
        "id": "_MILZ3kaXTIx",
        "outputId": "387e32fc-b2e2-4d3a-e8e3-c08a3a3bbca4"
      },
      "execution_count": 16,
      "outputs": [
        {
          "output_type": "stream",
          "name": "stdout",
          "text": [
            "The longest word in the sentence is: quick\n"
          ]
        }
      ]
    },
    {
      "cell_type": "code",
      "source": [
        "\n",
        "strings = [\"hello\", \"beautiful\", \"world\", \"extraordinary\", \"example\"]\n",
        "\n",
        "\n",
        "def count_vowels(s):\n",
        "    return sum(1 for char in s.lower() if char in 'aeiou')\n",
        "\n",
        "\n",
        "filtered_strings = [s for s in strings if count_vowels(s) > 3]\n",
        "\n",
        "print(\"Strings with more than three vowels:\", filtered_strings)\n"
      ],
      "metadata": {
        "colab": {
          "base_uri": "https://localhost:8080/"
        },
        "id": "HzoEO0qbXdIh",
        "outputId": "cad1165d-707f-45ce-a7a3-6b3e5269f012"
      },
      "execution_count": 17,
      "outputs": [
        {
          "output_type": "stream",
          "name": "stdout",
          "text": [
            "Strings with more than three vowels: ['beautiful', 'extraordinary']\n"
          ]
        }
      ]
    },
    {
      "cell_type": "code",
      "source": [
        "\n",
        "digit_sums = [sum(int(digit) for digit in str(num)) for num in range(1, 1001)]\n",
        "\n",
        "print(\"Sum of the digits of numbers from 1 to 1000:\", digit_sums)\n"
      ],
      "metadata": {
        "colab": {
          "base_uri": "https://localhost:8080/"
        },
        "id": "MKW1c0diXmLY",
        "outputId": "502acba8-c793-431f-e22c-0a29e949c6be"
      },
      "execution_count": 18,
      "outputs": [
        {
          "output_type": "stream",
          "name": "stdout",
          "text": [
            "Sum of the digits of numbers from 1 to 1000: [1, 2, 3, 4, 5, 6, 7, 8, 9, 1, 2, 3, 4, 5, 6, 7, 8, 9, 10, 2, 3, 4, 5, 6, 7, 8, 9, 10, 11, 3, 4, 5, 6, 7, 8, 9, 10, 11, 12, 4, 5, 6, 7, 8, 9, 10, 11, 12, 13, 5, 6, 7, 8, 9, 10, 11, 12, 13, 14, 6, 7, 8, 9, 10, 11, 12, 13, 14, 15, 7, 8, 9, 10, 11, 12, 13, 14, 15, 16, 8, 9, 10, 11, 12, 13, 14, 15, 16, 17, 9, 10, 11, 12, 13, 14, 15, 16, 17, 18, 1, 2, 3, 4, 5, 6, 7, 8, 9, 10, 2, 3, 4, 5, 6, 7, 8, 9, 10, 11, 3, 4, 5, 6, 7, 8, 9, 10, 11, 12, 4, 5, 6, 7, 8, 9, 10, 11, 12, 13, 5, 6, 7, 8, 9, 10, 11, 12, 13, 14, 6, 7, 8, 9, 10, 11, 12, 13, 14, 15, 7, 8, 9, 10, 11, 12, 13, 14, 15, 16, 8, 9, 10, 11, 12, 13, 14, 15, 16, 17, 9, 10, 11, 12, 13, 14, 15, 16, 17, 18, 10, 11, 12, 13, 14, 15, 16, 17, 18, 19, 2, 3, 4, 5, 6, 7, 8, 9, 10, 11, 3, 4, 5, 6, 7, 8, 9, 10, 11, 12, 4, 5, 6, 7, 8, 9, 10, 11, 12, 13, 5, 6, 7, 8, 9, 10, 11, 12, 13, 14, 6, 7, 8, 9, 10, 11, 12, 13, 14, 15, 7, 8, 9, 10, 11, 12, 13, 14, 15, 16, 8, 9, 10, 11, 12, 13, 14, 15, 16, 17, 9, 10, 11, 12, 13, 14, 15, 16, 17, 18, 10, 11, 12, 13, 14, 15, 16, 17, 18, 19, 11, 12, 13, 14, 15, 16, 17, 18, 19, 20, 3, 4, 5, 6, 7, 8, 9, 10, 11, 12, 4, 5, 6, 7, 8, 9, 10, 11, 12, 13, 5, 6, 7, 8, 9, 10, 11, 12, 13, 14, 6, 7, 8, 9, 10, 11, 12, 13, 14, 15, 7, 8, 9, 10, 11, 12, 13, 14, 15, 16, 8, 9, 10, 11, 12, 13, 14, 15, 16, 17, 9, 10, 11, 12, 13, 14, 15, 16, 17, 18, 10, 11, 12, 13, 14, 15, 16, 17, 18, 19, 11, 12, 13, 14, 15, 16, 17, 18, 19, 20, 12, 13, 14, 15, 16, 17, 18, 19, 20, 21, 4, 5, 6, 7, 8, 9, 10, 11, 12, 13, 5, 6, 7, 8, 9, 10, 11, 12, 13, 14, 6, 7, 8, 9, 10, 11, 12, 13, 14, 15, 7, 8, 9, 10, 11, 12, 13, 14, 15, 16, 8, 9, 10, 11, 12, 13, 14, 15, 16, 17, 9, 10, 11, 12, 13, 14, 15, 16, 17, 18, 10, 11, 12, 13, 14, 15, 16, 17, 18, 19, 11, 12, 13, 14, 15, 16, 17, 18, 19, 20, 12, 13, 14, 15, 16, 17, 18, 19, 20, 21, 13, 14, 15, 16, 17, 18, 19, 20, 21, 22, 5, 6, 7, 8, 9, 10, 11, 12, 13, 14, 6, 7, 8, 9, 10, 11, 12, 13, 14, 15, 7, 8, 9, 10, 11, 12, 13, 14, 15, 16, 8, 9, 10, 11, 12, 13, 14, 15, 16, 17, 9, 10, 11, 12, 13, 14, 15, 16, 17, 18, 10, 11, 12, 13, 14, 15, 16, 17, 18, 19, 11, 12, 13, 14, 15, 16, 17, 18, 19, 20, 12, 13, 14, 15, 16, 17, 18, 19, 20, 21, 13, 14, 15, 16, 17, 18, 19, 20, 21, 22, 14, 15, 16, 17, 18, 19, 20, 21, 22, 23, 6, 7, 8, 9, 10, 11, 12, 13, 14, 15, 7, 8, 9, 10, 11, 12, 13, 14, 15, 16, 8, 9, 10, 11, 12, 13, 14, 15, 16, 17, 9, 10, 11, 12, 13, 14, 15, 16, 17, 18, 10, 11, 12, 13, 14, 15, 16, 17, 18, 19, 11, 12, 13, 14, 15, 16, 17, 18, 19, 20, 12, 13, 14, 15, 16, 17, 18, 19, 20, 21, 13, 14, 15, 16, 17, 18, 19, 20, 21, 22, 14, 15, 16, 17, 18, 19, 20, 21, 22, 23, 15, 16, 17, 18, 19, 20, 21, 22, 23, 24, 7, 8, 9, 10, 11, 12, 13, 14, 15, 16, 8, 9, 10, 11, 12, 13, 14, 15, 16, 17, 9, 10, 11, 12, 13, 14, 15, 16, 17, 18, 10, 11, 12, 13, 14, 15, 16, 17, 18, 19, 11, 12, 13, 14, 15, 16, 17, 18, 19, 20, 12, 13, 14, 15, 16, 17, 18, 19, 20, 21, 13, 14, 15, 16, 17, 18, 19, 20, 21, 22, 14, 15, 16, 17, 18, 19, 20, 21, 22, 23, 15, 16, 17, 18, 19, 20, 21, 22, 23, 24, 16, 17, 18, 19, 20, 21, 22, 23, 24, 25, 8, 9, 10, 11, 12, 13, 14, 15, 16, 17, 9, 10, 11, 12, 13, 14, 15, 16, 17, 18, 10, 11, 12, 13, 14, 15, 16, 17, 18, 19, 11, 12, 13, 14, 15, 16, 17, 18, 19, 20, 12, 13, 14, 15, 16, 17, 18, 19, 20, 21, 13, 14, 15, 16, 17, 18, 19, 20, 21, 22, 14, 15, 16, 17, 18, 19, 20, 21, 22, 23, 15, 16, 17, 18, 19, 20, 21, 22, 23, 24, 16, 17, 18, 19, 20, 21, 22, 23, 24, 25, 17, 18, 19, 20, 21, 22, 23, 24, 25, 26, 9, 10, 11, 12, 13, 14, 15, 16, 17, 18, 10, 11, 12, 13, 14, 15, 16, 17, 18, 19, 11, 12, 13, 14, 15, 16, 17, 18, 19, 20, 12, 13, 14, 15, 16, 17, 18, 19, 20, 21, 13, 14, 15, 16, 17, 18, 19, 20, 21, 22, 14, 15, 16, 17, 18, 19, 20, 21, 22, 23, 15, 16, 17, 18, 19, 20, 21, 22, 23, 24, 16, 17, 18, 19, 20, 21, 22, 23, 24, 25, 17, 18, 19, 20, 21, 22, 23, 24, 25, 26, 18, 19, 20, 21, 22, 23, 24, 25, 26, 27, 1]\n"
          ]
        }
      ]
    },
    {
      "cell_type": "code",
      "source": [
        "def is_palindrome(n):\n",
        "    return str(n) == str(n)[::-1]\n",
        "\n",
        "def is_prime(n):\n",
        "    if n <= 1:\n",
        "        return False\n",
        "    for i in range(2, int(n**0.5) + 1):\n",
        "        if n % i == 0:\n",
        "            return False\n",
        "    return True\n",
        "\n",
        "\n",
        "prime_palindromic_numbers = [num for num in range(1, 1001) if is_palindrome(num) and is_prime(num)]\n",
        "\n",
        "print(\"List of prime palindromic numbers:\", prime_palindromic_numbers)\n"
      ],
      "metadata": {
        "colab": {
          "base_uri": "https://localhost:8080/"
        },
        "id": "WDYDNOhUXsUY",
        "outputId": "0fa507fc-0385-4b40-c313-91de1c739d02"
      },
      "execution_count": 19,
      "outputs": [
        {
          "output_type": "stream",
          "name": "stdout",
          "text": [
            "List of prime palindromic numbers: [2, 3, 5, 7, 11, 101, 131, 151, 181, 191, 313, 353, 373, 383, 727, 757, 787, 797, 919, 929]\n"
          ]
        }
      ]
    },
    {
      "cell_type": "code",
      "source": [],
      "metadata": {
        "id": "lpkZlwS9X3lw"
      },
      "execution_count": null,
      "outputs": []
    }
  ]
}