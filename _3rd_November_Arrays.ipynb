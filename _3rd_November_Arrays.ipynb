{
  "nbformat": 4,
  "nbformat_minor": 0,
  "metadata": {
    "colab": {
      "provenance": []
    },
    "kernelspec": {
      "name": "python3",
      "display_name": "Python 3"
    },
    "language_info": {
      "name": "python"
    }
  },
  "cells": [
    {
      "cell_type": "code",
      "source": [
        "def has_duplicates(arr):\n",
        "  return len(arr) != len(set(arr))\n",
        "\n",
        "arr = [1,2,4,2,5,9]\n",
        "print(has_duplicates(arr))"
      ],
      "metadata": {
        "colab": {
          "base_uri": "https://localhost:8080/"
        },
        "id": "2D49qRhTSu03",
        "outputId": "e8d74b11-24a7-42cf-fa2f-09aa11e302e7"
      },
      "execution_count": 6,
      "outputs": [
        {
          "output_type": "stream",
          "name": "stdout",
          "text": [
            "True\n"
          ]
        }
      ]
    },
    {
      "cell_type": "code",
      "source": [
        "def rotate_array(arr,k):\n",
        "  k = k % len(arr)\n",
        "  return arr[-k:] + arr[:-k]\n",
        "\n",
        "arr = [1,2,3,4,5,6,7,]\n",
        "k = 3\n",
        "output =  rotate_array(arr,k)\n",
        "print(output)"
      ],
      "metadata": {
        "colab": {
          "base_uri": "https://localhost:8080/"
        },
        "id": "Id_P-fFnTVyO",
        "outputId": "cf3285dc-71a5-42fe-b4cf-f6d88aa367e7"
      },
      "execution_count": 7,
      "outputs": [
        {
          "output_type": "stream",
          "name": "stdout",
          "text": [
            "[5, 6, 7, 1, 2, 3, 4]\n"
          ]
        }
      ]
    },
    {
      "cell_type": "code",
      "source": [
        "def reverse_array(arr):\n",
        "    left, right = 0, len(arr) - 1\n",
        "    while left < right:\n",
        "        arr[left], arr[right] = arr[right], arr[left]\n",
        "        left, right = left + 1, right - 1\n",
        "\n",
        "arr = [2, 4, 5, 7, 9, 12]\n",
        "reverse_array(arr)\n",
        "print(arr)\n"
      ],
      "metadata": {
        "id": "Ek3jF9OeTwQJ",
        "colab": {
          "base_uri": "https://localhost:8080/"
        },
        "outputId": "49c4a666-e0fe-458d-f8ec-23a155661d9b"
      },
      "execution_count": 8,
      "outputs": [
        {
          "output_type": "stream",
          "name": "stdout",
          "text": [
            "[12, 9, 7, 5, 4, 2]\n"
          ]
        }
      ]
    },
    {
      "cell_type": "code",
      "source": [
        "def find_max(arr):\n",
        "  return max(arr)\n",
        "\n",
        "arr = [10,5,20,8,15]\n",
        "max_value = find_max(arr)\n",
        "print(max_value)"
      ],
      "metadata": {
        "colab": {
          "base_uri": "https://localhost:8080/"
        },
        "id": "FfcjHdvd8ySh",
        "outputId": "3e6b8531-8568-4030-d381-a1471c5b57d0"
      },
      "execution_count": 9,
      "outputs": [
        {
          "output_type": "stream",
          "name": "stdout",
          "text": [
            "20\n"
          ]
        }
      ]
    },
    {
      "cell_type": "code",
      "source": [
        "def remove_duplicates(arr):\n",
        "    if not arr:\n",
        "        return 0\n",
        "\n",
        "    i = 0\n",
        "    for j in range(1, len(arr)):\n",
        "        if arr[j] != arr[i]:\n",
        "            i += 1\n",
        "            arr[i] = arr[j]\n",
        "\n",
        "    return arr[:i+1]\n",
        "\n",
        "arr = [1, 1, 2, 2, 2, 3, 3, 4, 4, 4, 5, 5]\n",
        "output = remove_duplicates(arr)\n",
        "print(output)\n"
      ],
      "metadata": {
        "colab": {
          "base_uri": "https://localhost:8080/"
        },
        "id": "arjh6qHV95LY",
        "outputId": "06f79528-4ed0-440a-f167-3a62e3b019b4"
      },
      "execution_count": 10,
      "outputs": [
        {
          "output_type": "stream",
          "name": "stdout",
          "text": [
            "[1, 2, 3, 4, 5]\n"
          ]
        }
      ]
    },
    {
      "cell_type": "code",
      "source": [],
      "metadata": {
        "id": "285-JrCd-Yzt"
      },
      "execution_count": null,
      "outputs": []
    }
  ]
}