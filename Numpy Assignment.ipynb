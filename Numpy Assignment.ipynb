{
 "cells": [
  {
   "cell_type": "code",
   "execution_count": 2,
   "id": "6a871459-61bd-4082-a3b5-196c9519fcc5",
   "metadata": {},
   "outputs": [],
   "source": [
    "# A Python library is a collection of functions that provides reusable code for specific tasks.These libraries simplify complex operations \n",
    "# by offering pre-written functions that can be used across different programs."
   ]
  },
  {
   "cell_type": "code",
   "execution_count": 3,
   "id": "91f34b74-777e-46e3-aadf-431f7666fbc6",
   "metadata": {},
   "outputs": [],
   "source": [
    "# Numpy provides package for scientific computation it provides efficient operations on hogenous data whereas list lists are ordered and changable collections in python,\n",
    "# Numpy contains only (homogenous) data whereas list can hold different ypes of data(heterogeneous) \n",
    "# Numpy  elements are stored contiguously in memory whereas list do not store data in a contiguous manner\n",
    "# Numpy arrays are optimized for efficient computation and faster whereas list are not much efficient computations and slower."
   ]
  },
  {
   "cell_type": "code",
   "execution_count": 4,
   "id": "2b35719a-71e1-42de-bf29-7a1a8c365eae",
   "metadata": {},
   "outputs": [],
   "source": [
    "import numpy as np"
   ]
  },
  {
   "cell_type": "code",
   "execution_count": 5,
   "id": "17b6c16b-1ed4-4636-9537-a831bf3973cb",
   "metadata": {},
   "outputs": [],
   "source": [
    "arr = np.array([[1, 2, 3, 4] , [5, 6, 7, 8] , [9, 10, 11, 12]])"
   ]
  },
  {
   "cell_type": "code",
   "execution_count": 6,
   "id": "f89ad5e6-56d2-4ab3-bb42-b49cd0acb628",
   "metadata": {},
   "outputs": [
    {
     "data": {
      "text/plain": [
       "array([[ 1,  2,  3,  4],\n",
       "       [ 5,  6,  7,  8],\n",
       "       [ 9, 10, 11, 12]])"
      ]
     },
     "execution_count": 6,
     "metadata": {},
     "output_type": "execute_result"
    }
   ],
   "source": [
    "arr"
   ]
  },
  {
   "cell_type": "code",
   "execution_count": 7,
   "id": "b7713b69-435d-44e5-be51-8322531b1b96",
   "metadata": {},
   "outputs": [
    {
     "data": {
      "text/plain": [
       "(3, 4)"
      ]
     },
     "execution_count": 7,
     "metadata": {},
     "output_type": "execute_result"
    }
   ],
   "source": [
    "arr.shape"
   ]
  },
  {
   "cell_type": "code",
   "execution_count": 8,
   "id": "8c1c5bd5-70a6-45d8-b295-5b9bcb144d2c",
   "metadata": {},
   "outputs": [
    {
     "data": {
      "text/plain": [
       "12"
      ]
     },
     "execution_count": 8,
     "metadata": {},
     "output_type": "execute_result"
    }
   ],
   "source": [
    "arr.size"
   ]
  },
  {
   "cell_type": "code",
   "execution_count": 9,
   "id": "6823cd95-29d5-4b6c-8bba-e05616b76bb0",
   "metadata": {},
   "outputs": [
    {
     "data": {
      "text/plain": [
       "2"
      ]
     },
     "execution_count": 9,
     "metadata": {},
     "output_type": "execute_result"
    }
   ],
   "source": [
    "arr.ndim"
   ]
  },
  {
   "cell_type": "code",
   "execution_count": 10,
   "id": "df6d6c72-fa72-485b-bc03-b9d78a74c326",
   "metadata": {},
   "outputs": [
    {
     "data": {
      "text/plain": [
       "array([1, 2, 3, 4])"
      ]
     },
     "execution_count": 10,
     "metadata": {},
     "output_type": "execute_result"
    }
   ],
   "source": [
    "arr[0]"
   ]
  },
  {
   "cell_type": "code",
   "execution_count": 11,
   "id": "d4c7be6b-8172-4311-9a21-977b9e78ebd3",
   "metadata": {},
   "outputs": [
    {
     "data": {
      "text/plain": [
       "12"
      ]
     },
     "execution_count": 11,
     "metadata": {},
     "output_type": "execute_result"
    }
   ],
   "source": [
    "arr[2,3]"
   ]
  },
  {
   "cell_type": "code",
   "execution_count": 12,
   "id": "2935f148-62f9-41a9-8018-5e501025927c",
   "metadata": {},
   "outputs": [
    {
     "data": {
      "text/plain": [
       "array([[ 2,  4],\n",
       "       [ 6,  8],\n",
       "       [10, 12]])"
      ]
     },
     "execution_count": 12,
     "metadata": {},
     "output_type": "execute_result"
    }
   ],
   "source": [
    "arr[ : , 1::2]"
   ]
  },
  {
   "cell_type": "code",
   "execution_count": 13,
   "id": "1290a406-8d22-4d52-ba18-7c1aa30e346a",
   "metadata": {},
   "outputs": [],
   "source": [
    "import random as random"
   ]
  },
  {
   "cell_type": "code",
   "execution_count": 14,
   "id": "e3a27632-fbde-49be-b6b3-f17cf8b36e86",
   "metadata": {},
   "outputs": [
    {
     "data": {
      "text/plain": [
       "array([[0, 0, 0],\n",
       "       [0, 0, 0],\n",
       "       [0, 0, 0]])"
      ]
     },
     "execution_count": 14,
     "metadata": {},
     "output_type": "execute_result"
    }
   ],
   "source": [
    "arr1 = np.random.randint(0,1 , (3,3))\n",
    "arr1"
   ]
  },
  {
   "cell_type": "code",
   "execution_count": 15,
   "id": "580d6dab-b7a0-4c4f-a0ab-f95ee663a4d4",
   "metadata": {},
   "outputs": [
    {
     "data": {
      "text/plain": [
       "array([[0.8248821 , 0.12913126, 0.72552614],\n",
       "       [0.78331551, 0.47503387, 0.5132994 ],\n",
       "       [0.3018495 , 0.12184269, 0.11166755]])"
      ]
     },
     "execution_count": 15,
     "metadata": {},
     "output_type": "execute_result"
    }
   ],
   "source": [
    "np.random.rand(3,3) # the numpy rand function generates a 3x3 array of random values"
   ]
  },
  {
   "cell_type": "code",
   "execution_count": 16,
   "id": "915da4af-36f7-4d10-9ab1-9e111ab7b8cb",
   "metadata": {},
   "outputs": [
    {
     "data": {
      "text/plain": [
       "array([[-2.43051993,  0.84454053,  1.39563476],\n",
       "       [-1.23374842, -0.55267895, -0.93641452],\n",
       "       [ 0.51789628, -1.5075595 ,  0.57899225]])"
      ]
     },
     "execution_count": 16,
     "metadata": {},
     "output_type": "execute_result"
    }
   ],
   "source": [
    "np.random.randn(3,3) # the numpy rand function generates a 3x3 array of random normal  values"
   ]
  },
  {
   "cell_type": "code",
   "execution_count": 17,
   "id": "66ff917e-4038-4326-a5a6-1591b83aa82d",
   "metadata": {},
   "outputs": [
    {
     "data": {
      "text/plain": [
       "array([[ 1,  2,  3,  4],\n",
       "       [ 5,  6,  7,  8],\n",
       "       [ 9, 10, 11, 12]])"
      ]
     },
     "execution_count": 17,
     "metadata": {},
     "output_type": "execute_result"
    }
   ],
   "source": [
    "arr"
   ]
  },
  {
   "cell_type": "code",
   "execution_count": 18,
   "id": "4b3bc617-dc45-4ece-8f80-0d351c5227a6",
   "metadata": {},
   "outputs": [
    {
     "data": {
      "text/plain": [
       "array([[[ 1,  2,  3,  4],\n",
       "        [ 5,  6,  7,  8],\n",
       "        [ 9, 10, 11, 12]]])"
      ]
     },
     "execution_count": 18,
     "metadata": {},
     "output_type": "execute_result"
    }
   ],
   "source": [
    "np.expand_dims(arr, axis = 0)"
   ]
  },
  {
   "cell_type": "code",
   "execution_count": 19,
   "id": "1503acef-257d-47df-a0c7-f8e1308a29f7",
   "metadata": {},
   "outputs": [
    {
     "data": {
      "text/plain": [
       "array([[ 1,  5,  9],\n",
       "       [ 2,  6, 10],\n",
       "       [ 3,  7, 11],\n",
       "       [ 4,  8, 12]])"
      ]
     },
     "execution_count": 19,
     "metadata": {},
     "output_type": "execute_result"
    }
   ],
   "source": [
    "arr.T"
   ]
  },
  {
   "cell_type": "code",
   "execution_count": 20,
   "id": "f731e6c1-c222-4873-8ce3-bf776d625019",
   "metadata": {},
   "outputs": [],
   "source": [
    "Matrix_a = np.array([[1, 2, 3, 4], [5, 6, 7, 8], [9, 10, 11, 12]])\n",
    "Matrix_b = np.array([[1, 2, 3, 4], [5, 6, 7, 8], [9, 10, 11, 12]])"
   ]
  },
  {
   "cell_type": "code",
   "execution_count": 21,
   "id": "31088a56-fe10-4d0b-80c6-f3274e3ed62a",
   "metadata": {},
   "outputs": [
    {
     "data": {
      "text/plain": [
       "array([[  1,   4,   9,  16],\n",
       "       [ 25,  36,  49,  64],\n",
       "       [ 81, 100, 121, 144]])"
      ]
     },
     "execution_count": 21,
     "metadata": {},
     "output_type": "execute_result"
    }
   ],
   "source": [
    "Matrix_a * Matrix_b"
   ]
  },
  {
   "cell_type": "code",
   "execution_count": 22,
   "id": "928b0d94-f2ad-47ca-a968-c85b85fa9af6",
   "metadata": {},
   "outputs": [
    {
     "data": {
      "text/plain": [
       "array([[63, 81, 66],\n",
       "       [78, 42, 68],\n",
       "       [70, 41, 62]])"
      ]
     },
     "execution_count": 22,
     "metadata": {},
     "output_type": "execute_result"
    }
   ],
   "source": [
    "a = np.random.randint(1,10, (3,3))\n",
    "b = np.random.randint(1,10, (3,3))\n",
    "# matrix multiplication\n",
    "a @ b"
   ]
  },
  {
   "cell_type": "code",
   "execution_count": 23,
   "id": "88955bfa-ac6a-4d86-bd3f-967a7cc1b76b",
   "metadata": {},
   "outputs": [
    {
     "data": {
      "text/plain": [
       "array([[ 2,  4,  6,  8],\n",
       "       [10, 12, 14, 16],\n",
       "       [18, 20, 22, 24]])"
      ]
     },
     "execution_count": 23,
     "metadata": {},
     "output_type": "execute_result"
    }
   ],
   "source": [
    "Matrix_a + Matrix_b"
   ]
  },
  {
   "cell_type": "code",
   "execution_count": 24,
   "id": "65d07d26-a3fd-4d0d-9f8a-527c395b67aa",
   "metadata": {},
   "outputs": [
    {
     "data": {
      "text/plain": [
       "array([[0, 0, 0, 0],\n",
       "       [0, 0, 0, 0],\n",
       "       [0, 0, 0, 0]])"
      ]
     },
     "execution_count": 24,
     "metadata": {},
     "output_type": "execute_result"
    }
   ],
   "source": [
    "Matrix_a - Matrix_b"
   ]
  },
  {
   "cell_type": "code",
   "execution_count": 25,
   "id": "b92463ce-b29a-42eb-9880-043a9ffc59a7",
   "metadata": {},
   "outputs": [
    {
     "data": {
      "text/plain": [
       "array([[1., 1., 1., 1.],\n",
       "       [1., 1., 1., 1.],\n",
       "       [1., 1., 1., 1.]])"
      ]
     },
     "execution_count": 25,
     "metadata": {},
     "output_type": "execute_result"
    }
   ],
   "source": [
    "Matrix_a / Matrix_b"
   ]
  },
  {
   "cell_type": "code",
   "execution_count": 26,
   "id": "f276dadb-e499-4f09-b327-d7bdb5f38a01",
   "metadata": {},
   "outputs": [],
   "source": [
    "# the byteswap() function is used to swap the byte order of an array"
   ]
  },
  {
   "cell_type": "code",
   "execution_count": 27,
   "id": "3383456a-6ea6-427a-a746-a4254f94ab94",
   "metadata": {},
   "outputs": [],
   "source": [
    "#The np.linalg.inv() function in NumPy is used to compute the matrix inverse.\n",
    "# It is significant in solving linear equations"
   ]
  },
  {
   "cell_type": "code",
   "execution_count": 28,
   "id": "8d98dec1-1b90-4c43-a703-761609da6704",
   "metadata": {},
   "outputs": [],
   "source": [
    "# the reshape function reshapes the shape of array with increasing the size of an array but can increrase or decrease the dimension of an array\n",
    "# the reshape functions is used just by calling the function name (arr.reshape)"
   ]
  },
  {
   "cell_type": "code",
   "execution_count": 29,
   "id": "b30a4a2b-a260-4801-871e-d2aa16764902",
   "metadata": {},
   "outputs": [],
   "source": [
    "# Broadcasting means adding a same number/integer to an entire array."
   ]
  },
  {
   "cell_type": "code",
   "execution_count": null,
   "id": "e353a62d-0b65-4809-9c38-ff72571e4399",
   "metadata": {},
   "outputs": [],
   "source": []
  },
  {
   "cell_type": "code",
   "execution_count": null,
   "id": "d7529600-f9ba-4aa0-beda-d2e67b85509e",
   "metadata": {},
   "outputs": [],
   "source": []
  }
 ],
 "metadata": {
  "kernelspec": {
   "display_name": "Python 3 (ipykernel)",
   "language": "python",
   "name": "python3"
  },
  "language_info": {
   "codemirror_mode": {
    "name": "ipython",
    "version": 3
   },
   "file_extension": ".py",
   "mimetype": "text/x-python",
   "name": "python",
   "nbconvert_exporter": "python",
   "pygments_lexer": "ipython3",
   "version": "3.10.8"
  }
 },
 "nbformat": 4,
 "nbformat_minor": 5
}
