{
 "cells": [
  {
   "cell_type": "code",
   "execution_count": 1,
   "id": "62e65ee0-af9c-41d7-8613-8883ff0f8330",
   "metadata": {},
   "outputs": [
    {
     "name": "stdout",
     "output_type": "stream",
     "text": [
      "x =  10\n",
      "y =  5\n"
     ]
    }
   ],
   "source": [
    "x = 5\n",
    "y = 10\n",
    "x,y = y,x\n",
    "print(\"x = \", x)\n",
    "print(\"y = \", y)"
   ]
  },
  {
   "cell_type": "code",
   "execution_count": 2,
   "id": "27c15f0a-0fdc-439e-8324-82a775803f50",
   "metadata": {},
   "outputs": [
    {
     "name": "stdin",
     "output_type": "stream",
     "text": [
      "enter the length of the rectangle:  5\n",
      "enter the width of the rectangle:  3\n"
     ]
    },
    {
     "name": "stdout",
     "output_type": "stream",
     "text": [
      "the area of the rectangle is 15.0\n"
     ]
    }
   ],
   "source": [
    "length = float(input(\"enter the length of the rectangle: \"))\n",
    "width = float(input(\"enter the width of the rectangle: \"))\n",
    "area = length*width\n",
    "print(\"the area of the rectangle is\", area)"
   ]
  },
  {
   "cell_type": "code",
   "execution_count": 3,
   "id": "a8c9208a-e46d-44f0-8a91-42d75e653f1a",
   "metadata": {},
   "outputs": [
    {
     "name": "stdin",
     "output_type": "stream",
     "text": [
      "enter the temperature in celsius:  40\n"
     ]
    },
    {
     "name": "stdout",
     "output_type": "stream",
     "text": [
      "the temperature in fahrenheit is 104.0\n"
     ]
    }
   ],
   "source": [
    "celsius = float(input(\"enter the temperature in celsius: \"))\n",
    "fahrenheit = (celsius * 9/5) +32\n",
    "print(\"the temperature in fahrenheit is\" ,fahrenheit)"
   ]
  },
  {
   "cell_type": "code",
   "execution_count": 4,
   "id": "fffc5ca6-8a3a-4e08-9fa2-34a94be5c3d0",
   "metadata": {},
   "outputs": [
    {
     "name": "stdin",
     "output_type": "stream",
     "text": [
      "enter a string:  pwskills\n"
     ]
    },
    {
     "name": "stdout",
     "output_type": "stream",
     "text": [
      "the length of the string is 8\n"
     ]
    }
   ],
   "source": [
    "string = input(\"enter a string: \")\n",
    "print(\"the length of the string is\" , len(string))"
   ]
  },
  {
   "cell_type": "code",
   "execution_count": 5,
   "id": "7f0483ea-2d08-48e4-85dd-587ee658ee76",
   "metadata": {},
   "outputs": [
    {
     "name": "stdin",
     "output_type": "stream",
     "text": [
      "Enter a sentence:  full stack data science pro\n"
     ]
    },
    {
     "name": "stdout",
     "output_type": "stream",
     "text": [
      "The number of vowels in the sentence is **8**.\n"
     ]
    }
   ],
   "source": [
    "sentence = input(\"Enter a sentence: \")\n",
    "vowels = \"aeiou\"\n",
    "count = 0\n",
    "for char in sentence:\n",
    "    if char.lower() in vowels:\n",
    "        count += 1\n",
    "print(f\"The number of vowels in the sentence is **{count}**.\")"
   ]
  },
  {
   "cell_type": "code",
   "execution_count": 6,
   "id": "9f8cf04a-13b3-4fee-a3b9-a98bffb7018f",
   "metadata": {},
   "outputs": [
    {
     "name": "stdin",
     "output_type": "stream",
     "text": [
      "Enter a string:  data science pro\n"
     ]
    },
    {
     "name": "stdout",
     "output_type": "stream",
     "text": [
      "The reversed string is **orp ecneics atad**.\n"
     ]
    }
   ],
   "source": [
    "string = input(\"Enter a string: \")\n",
    "reversed_string = string[::-1]\n",
    "print(f\"The reversed string is **{reversed_string}**.\")"
   ]
  },
  {
   "cell_type": "code",
   "execution_count": null,
   "id": "46dd89f4-a1cc-42c6-9dee-d65852797629",
   "metadata": {},
   "outputs": [],
   "source": [
    "string = input(\"Enter a string: \")\n",
    "string_without_spaces = string.replace(\" \", \"\")\n",
    "print(f\"The modified string without spaces is **{string_without_spaces}**.\")"
   ]
  },
  {
   "cell_type": "code",
   "execution_count": null,
   "id": "4ac49455-a4a4-4a96-a63a-59ce301a85ee",
   "metadata": {},
   "outputs": [],
   "source": []
  }
 ],
 "metadata": {
  "kernelspec": {
   "display_name": "Python 3 (ipykernel)",
   "language": "python",
   "name": "python3"
  },
  "language_info": {
   "codemirror_mode": {
    "name": "ipython",
    "version": 3
   },
   "file_extension": ".py",
   "mimetype": "text/x-python",
   "name": "python",
   "nbconvert_exporter": "python",
   "pygments_lexer": "ipython3",
   "version": "3.10.8"
  }
 },
 "nbformat": 4,
 "nbformat_minor": 5
}
